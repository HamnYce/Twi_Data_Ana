{
  "metadata": {
    "kernelspec": {
      "name": "python3",
      "display_name": "Python 3",
      "language": "python"
    },
    "creator": "admin",
    "createdOn": 1666543136911,
    "tags": [],
    "customFields": {},
    "hide_input": false,
    "language_info": {
      "name": "python",
      "version": "3.7.13",
      "mimetype": "text/x-python",
      "codemirror_mode": {
        "name": "ipython",
        "version": 3
      },
      "pygments_lexer": "ipython3",
      "nbconvert_exporter": "python",
      "file_extension": ".py"
    },
    "modifiedBy": "admin"
  },
  "nbformat": 4,
  "nbformat_minor": 1,
  "cells": [
    {
      "execution_count": 1,
      "cell_type": "code",
      "metadata": {},
      "source": [
        "# -*- coding: utf-8 -*-\nimport dataiku\nimport pandas as pd, numpy as np\nfrom dataiku import pandasutils as pdu\n\n# Read recipe inputs\nTwi_Data_Cleaned_Cols_Parsed \u003d dataiku.Dataset(\"Twi_Data_Cleaned_Cols_Parsed\")\nTwi_Data_Cleaned_Cols_Parsed_df \u003d Twi_Data_Cleaned_Cols_Parsed.get_dataframe()\n\n"
      ],
      "outputs": []
    },
    {
      "execution_count": 3,
      "cell_type": "code",
      "metadata": {},
      "source": [
        "tweet_text \u003d Twi_Data_Cleaned_Cols_Parsed_df[\u0027text\u0027]\nfirst_link \u003d Twi_Data_Cleaned_Cols_Parsed_df[\u0027text_first_link\u0027]\nsecond_link \u003d Twi_Data_Cleaned_Cols_Parsed_df[\u0027text_second_link\u0027]\n"
      ],
      "outputs": []
    },
    {
      "execution_count": 23,
      "cell_type": "code",
      "metadata": {},
      "source": [
        "tweet_text_clean \u003d []\nfor text in tweet_text:\n    clean_text \u003d text\n    if text[0] \u003d\u003d \"\u0027\" or text[0] \u003d\u003d \u0027\"\u0027:\n        clean_text \u003d text[1:]\n    if text[-1] \u003d\u003d \"\u0027\" or text[-1] \u003d\u003d \u0027\"\u0027:\n        clean_text \u003d text[:-1]\n    tweet_text_clean.append(clean_text)"
      ],
      "outputs": []
    },
    {
      "execution_count": 24,
      "cell_type": "code",
      "metadata": {},
      "source": [
        "first_link_clean \u003d []\nfor text in first_link:\n    clean_text \u003d text\n    if type(clean_text) \u003d\u003d str:\n        if text[0] \u003d\u003d \"\u0027\" or text[0] \u003d\u003d \u0027\"\u0027:\n            clean_text \u003d text[1:]\n        if text[-1] \u003d\u003d \"\u0027\" or text[-1] \u003d\u003d \u0027\"\u0027:\n            clean_text \u003d text[:-1]\n    first_link_clean.append(clean_text)"
      ],
      "outputs": []
    },
    {
      "execution_count": 25,
      "cell_type": "code",
      "metadata": {},
      "source": [
        "second_link_clean \u003d []\nfor text in first_link:\n    clean_text \u003d text\n    if type(clean_text) \u003d\u003d str:\n        if text[0] \u003d\u003d \"\u0027\" or text[0] \u003d\u003d \u0027\"\u0027:\n            clean_text \u003d text[1:]\n        if text[-1] \u003d\u003d \"\u0027\" or text[-1] \u003d\u003d \u0027\"\u0027:\n            clean_text \u003d text[:-1]\n    second_link_clean.append(clean_text)"
      ],
      "outputs": []
    },
    {
      "execution_count": 26,
      "cell_type": "code",
      "metadata": {},
      "source": [
        "Twi_Data_Cleaned_Cols_Parsed_df[\u0027text\u0027] \u003d tweet_text_clean\nTwi_Data_Cleaned_Cols_Parsed_df[\u0027text_first_link\u0027] \u003d first_link_clean\nTwi_Data_Cleaned_Cols_Parsed_df[\u0027text_second_link\u0027] \u003d second_link_clean"
      ],
      "outputs": []
    },
    {
      "execution_count": 27,
      "cell_type": "code",
      "metadata": {},
      "source": [
        "Twi_Data_Split_Text_Clean_df \u003d Twi_Data_Cleaned_Cols_Parsed_df # For this sample code, simply copy input to output\n\n\n# Write recipe outputs\nTwi_Data_Split_Text_Clean \u003d dataiku.Dataset(\"Twi_Data_Split_Text_Clean\")\nTwi_Data_Split_Text_Clean.write_with_schema(Twi_Data_Split_Text_Clean_df)"
      ],
      "outputs": [
        {
          "output_type": "stream",
          "text": "10000 rows successfully written (L6Q78BCGIa)\n",
          "name": "stdout"
        }
      ]
    },
    {
      "execution_count": 0,
      "cell_type": "code",
      "metadata": {},
      "source": [
        ""
      ],
      "outputs": []
    }
  ]
}