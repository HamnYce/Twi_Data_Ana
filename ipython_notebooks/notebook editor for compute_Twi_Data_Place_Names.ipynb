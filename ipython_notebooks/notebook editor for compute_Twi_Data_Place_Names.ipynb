{
  "metadata": {
    "kernelspec": {
      "display_name": "Python 3",
      "language": "python",
      "name": "python3"
    },
    "creator": "admin",
    "createdOn": 1666611215401,
    "tags": [
      "data_prep"
    ],
    "customFields": {}
  },
  "nbformat": 4,
  "nbformat_minor": 0,
  "cells": [
    {
      "execution_count": 0,
      "cell_type": "code",
      "metadata": {},
      "source": [
        "# -*- coding: utf-8 -*-\n",
        "import dataiku\n",
        "import pandas as pd, numpy as np\n",
        "from dataiku import pandasutils as pdu\n",
        "\n",
        "# Read recipe inputs\n",
        "Twi_Data_prepared \u003d dataiku.Dataset(\"Twi_Data_prepared\")\n",
        "Twi_Data_prepared_df \u003d Twi_Data_prepared.get_dataframe()\n",
        "\n",
        "\n",
        "# Compute recipe outputs from inputs\n",
        "# TODO: Replace this part by your actual code that computes the output, as a Pandas dataframe\n",
        "# NB: DSS also supports other kinds of APIs for reading and writing data. Please see doc.\n",
        "\n",
        "Twi_Data_Place_Names_df \u003d Twi_Data_prepared_df # For this sample code, simply copy input to output\n",
        "\n",
        "\n",
        "# Write recipe outputs\n",
        "Twi_Data_Place_Names \u003d dataiku.Dataset(\"Twi_Data_Place_Names\")\n",
        "Twi_Data_Place_Names.write_with_schema(Twi_Data_Place_Names_df)"
      ],
      "outputs": []
    }
  ]
}