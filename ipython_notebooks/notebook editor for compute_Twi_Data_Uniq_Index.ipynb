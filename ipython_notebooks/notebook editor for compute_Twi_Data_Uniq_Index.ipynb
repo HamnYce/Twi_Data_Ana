{
  "nbformat": 4,
  "nbformat_minor": 0,
  "metadata": {
    "kernelspec": {
      "display_name": "Python 3",
      "language": "python",
      "name": "python3"
    },
    "associatedRecipe": "compute_Twi_Data_Uniq_Index",
    "creator": "admin",
    "createdOn": 1666530546543,
    "tags": [
      "recipe-editor"
    ],
    "customFields": {}
  },
  "cells": [
    {
      "cell_type": "code",
      "metadata": {},
      "outputs": [],
      "execution_count": 0,
      "source": [
        "# -*- coding: utf-8 -*-\n",
        "import dataiku\n",
        "import pandas as pd, numpy as np\n",
        "from dataiku import pandasutils as pdu\n",
        "\n",
        "# Read recipe inputs\n",
        "Twi_Data_Cleaned_Cols_Parsed \u003d dataiku.Dataset(\"Twi_Data_Cleaned_Cols_Parsed\")\n",
        "Twi_Data_Cleaned_Cols_Parsed_df \u003d Twi_Data_Cleaned_Cols_Parsed.get_dataframe()\n",
        "\n",
        "\n",
        "# Compute recipe outputs from inputs\n",
        "# TODO: Replace this part by your actual code that computes the output, as a Pandas dataframe\n",
        "# NB: DSS also supports other kinds of APIs for reading and writing data. Please see doc.\n",
        "\n",
        "Twi_Data_Uniq_Index_df \u003d Twi_Data_Cleaned_Cols_Parsed_df # For this sample code, simply copy input to output\n",
        "\n",
        "\n",
        "# Write recipe outputs\n",
        "Twi_Data_Uniq_Index \u003d dataiku.Dataset(\"Twi_Data_Uniq_Index\")\n",
        "Twi_Data_Uniq_Index.write_with_schema(Twi_Data_Uniq_Index_df)"
      ]
    }
  ]
}