{
  "metadata": {
    "kernelspec": {
      "name": "python3",
      "display_name": "Python 3",
      "language": "python"
    },
    "creator": "admin",
    "createdOn": 1666530546543,
    "tags": [
      "data_prep"
    ],
    "customFields": {},
    "hide_input": false,
    "language_info": {
      "name": "python",
      "version": "3.7.13",
      "mimetype": "text/x-python",
      "codemirror_mode": {
        "name": "ipython",
        "version": 3
      },
      "pygments_lexer": "ipython3",
      "nbconvert_exporter": "python",
      "file_extension": ".py"
    },
    "modifiedBy": "admin"
  },
  "nbformat": 4,
  "nbformat_minor": 1,
  "cells": [
    {
      "execution_count": 1,
      "cell_type": "code",
      "metadata": {},
      "source": [
        "# -*- coding: utf-8 -*-\nimport dataiku\nimport pandas as pd, numpy as np\nfrom dataiku import pandasutils as pdu\n\n# Read recipe inputs\nTwi_Data_Cleaned_Cols_Parsed \u003d dataiku.Dataset(\"Twi_Data_Cleaned_Cols_Parsed\")\nTwi_Data_Cleaned_Cols_Parsed_df \u003d Twi_Data_Cleaned_Cols_Parsed.get_dataframe()\n\n"
      ],
      "outputs": []
    },
    {
      "execution_count": 5,
      "cell_type": "code",
      "metadata": {},
      "source": [
        "uniq_index \u003d list(Twi_Data_Cleaned_Cols_Parsed_df[\u0027uniq_index\u0027])\nfor i,name in enumerate(uniq_index):\n    uniq_index[i] \u003d uniq_index.index(name)\n\nlen(set(uniq_index))"
      ],
      "outputs": [
        {
          "output_type": "execute_result",
          "execution_count": 5,
          "data": {
            "text/plain": "10000"
          },
          "metadata": {}
        }
      ]
    },
    {
      "execution_count": 0,
      "cell_type": "code",
      "metadata": {},
      "source": [
        "\nTwi_Data_Uniq_Index_df \u003d Twi_Data_Cleaned_Cols_Parsed_df # For this sample code, simply copy input to output\n\n\n# Write recipe outputs\nTwi_Data_Uniq_Index \u003d dataiku.Dataset(\"Twi_Data_Uniq_Index\")\nTwi_Data_Uniq_Index.write_with_schema(Twi_Data_Uniq_Index_df)"
      ],
      "outputs": []
    }
  ]
}