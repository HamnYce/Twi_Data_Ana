{
  "metadata": {
    "kernelspec": {
      "name": "python3",
      "display_name": "Python 3",
      "language": "python"
    },
    "associatedRecipe": "compute_Twi_Data_Place_Name_Clean",
    "dkuGit": {
      "lastInteraction": 0
    },
    "creationTag": {
      "versionNumber": 0,
      "lastModifiedBy": {
        "login": "admin"
      },
      "lastModifiedOn": 1666729506958
    },
    "creator": "admin",
    "createdOn": 1666729506958,
    "tags": [
      "recipe-editor"
    ],
    "customFields": {},
    "hide_input": false,
    "language_info": {
      "name": "python",
      "version": "3.7.13",
      "mimetype": "text/x-python",
      "codemirror_mode": {
        "name": "ipython",
        "version": 3
      },
      "pygments_lexer": "ipython3",
      "nbconvert_exporter": "python",
      "file_extension": ".py"
    },
    "modifiedBy": "admin"
  },
  "nbformat": 4,
  "nbformat_minor": 1,
  "cells": [
    {
      "execution_count": 0,
      "cell_type": "code",
      "metadata": {},
      "source": [
        "# -*- coding: utf-8 -*-\nimport dataiku\nimport pandas as pd, numpy as np\nfrom dataiku import pandasutils as pdu\n\n# Read recipe inputs\nTwi_Data_Place_Name_From_Text \u003d dataiku.Dataset(\"Twi_Data_Place_Name_From_Text\")\nTwi_Data_Place_Name_From_Text_df \u003d Twi_Data_Place_Name_From_Text.get_dataframe()"
      ],
      "outputs": []
    },
    {
      "execution_count": 0,
      "cell_type": "code",
      "metadata": {},
      "source": [
        "place_names \u003d Twi_Data_Place_Name_From_Text_df[\u0027place_name\u0027]"
      ],
      "outputs": []
    },
    {
      "execution_count": 0,
      "cell_type": "code",
      "metadata": {},
      "source": [
        "stripped_place_names \u003d []\nfor place in place_names:\n    place \u003d place.replace(\u0027\"\u0027,\u0027\u0027).replace(\"\u0027\",\"\")\n    if place.endswith(\u0027,\u0027):\n        place \u003d place[:-1]\n    stripped_place_names.append(place)\nstripped_place_names"
      ],
      "outputs": []
    },
    {
      "execution_count": 0,
      "cell_type": "code",
      "metadata": {},
      "source": [
        "import codecs\ndecoded_places \u003d []\nfor place in stripped_place_names:\n    place \u003d codecs.unicode_escape_decode(place)[0]\n    decoded_places.append(place)\ndecoded_places"
      ],
      "outputs": []
    },
    {
      "execution_count": 0,
      "cell_type": "code",
      "metadata": {},
      "source": [
        "cleaned_decoded \u003d []\nfor place in decoded_places:\n    if \u0027Ø\u0027 in place:\n        cleaned_decoded.append(\u0027nu\u0027)\n    else:\n        cleaned_decoded.append(place)"
      ],
      "outputs": []
    },
    {
      "execution_count": 0,
      "cell_type": "code",
      "metadata": {},
      "source": [
        "Twi_Data_Place_Name_From_Text_df[\u0027place_name\u0027] \u003d cleaned_decoded"
      ],
      "outputs": []
    },
    {
      "execution_count": 0,
      "cell_type": "code",
      "metadata": {},
      "source": [
        "Twi_Data_Place_Name_Clean_df \u003d Twi_Data_Place_Name_From_Text_df # For this sample code, simply copy input to output\n\n\n# Write recipe outputs\nTwi_Data_Place_Name_Clean \u003d dataiku.Dataset(\"Twi_Data_Place_Name_Clean\")\nTwi_Data_Place_Name_Clean.write_with_schema(Twi_Data_Place_Name_Clean_df)"
      ],
      "outputs": []
    }
  ]
}