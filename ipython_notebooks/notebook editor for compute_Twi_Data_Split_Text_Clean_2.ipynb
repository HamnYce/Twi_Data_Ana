{
  "metadata": {
    "kernelspec": {
      "name": "python3",
      "display_name": "Python 3",
      "language": "python"
    },
    "associatedRecipe": "compute_Twi_Data_Split_Text_Clean",
    "dkuGit": {
      "lastInteraction": 0
    },
    "creationTag": {
      "versionNumber": 0,
      "lastModifiedBy": {
        "login": "admin"
      },
      "lastModifiedOn": 1666720974966
    },
    "creator": "admin",
    "createdOn": 1666720974966,
    "tags": [],
    "customFields": {},
    "hide_input": false,
    "language_info": {
      "name": "python",
      "version": "3.7.13",
      "mimetype": "text/x-python",
      "codemirror_mode": {
        "name": "ipython",
        "version": 3
      },
      "pygments_lexer": "ipython3",
      "nbconvert_exporter": "python",
      "file_extension": ".py"
    },
    "modifiedBy": "admin"
  },
  "nbformat": 4,
  "nbformat_minor": 1,
  "cells": [
    {
      "execution_count": 45,
      "cell_type": "code",
      "metadata": {},
      "source": [
        "# -*- coding: utf-8 -*-\nimport dataiku\nimport pandas as pd, numpy as np\nfrom dataiku import pandasutils as pdu\n\n# Read recipe inputs\nTwi_Data_cols_parsed \u003d dataiku.Dataset(\"Twi_Data_cols_parsed\")\nTwi_Data_cols_parsed_df \u003d Twi_Data_cols_parsed.get_dataframe()"
      ],
      "outputs": []
    },
    {
      "execution_count": 35,
      "cell_type": "code",
      "metadata": {},
      "source": [
        "tweet_text \u003d Twi_Data_cols_parsed_df[\u0027tweet_text_clean\u0027]\nfirst_link \u003d Twi_Data_cols_parsed_df[\u0027text_first_link\u0027]\nsecond_link \u003d Twi_Data_cols_parsed_df[\u0027text_second_link\u0027]\nthird_link \u003d Twi_Data_cols_parsed_df[\u0027text_third_link\u0027]"
      ],
      "outputs": []
    },
    {
      "execution_count": 36,
      "cell_type": "code",
      "metadata": {},
      "source": [
        "tweet_text_clean \u003d []\nfor text in tweet_text:\n    clean_text \u003d text\n    if text[0] \u003d\u003d \"\u0027\" or text[0] \u003d\u003d \u0027\"\u0027:\n        clean_text \u003d text[1:]\n    if text[-1] \u003d\u003d \"\u0027\" or text[-1] \u003d\u003d \u0027\"\u0027:\n        clean_text \u003d text[:-1]\n    tweet_text_clean.append(clean_text)"
      ],
      "outputs": []
    },
    {
      "execution_count": 37,
      "cell_type": "code",
      "metadata": {},
      "source": [
        "first_link_clean \u003d []\nfor text in first_link:\n    clean_text \u003d text\n    if type(clean_text) \u003d\u003d str:\n        if text[0] \u003d\u003d \"\u0027\" or text[0] \u003d\u003d \u0027\"\u0027:\n            clean_text \u003d text[1:]\n        if text[-1] \u003d\u003d \"\u0027\" or text[-1] \u003d\u003d \u0027\"\u0027:\n            clean_text \u003d text[:-1]\n    first_link_clean.append(clean_text)"
      ],
      "outputs": []
    },
    {
      "execution_count": 38,
      "cell_type": "code",
      "metadata": {},
      "source": [
        "second_link_clean \u003d []\nfor text in second_link:\n    clean_text \u003d text\n    if type(clean_text) \u003d\u003d str:\n        if text[0] \u003d\u003d \"\u0027\" or text[0] \u003d\u003d \u0027\"\u0027:\n            clean_text \u003d text[1:]\n        if text[-1] \u003d\u003d \"\u0027\" or text[-1] \u003d\u003d \u0027\"\u0027:\n            clean_text \u003d text[:-1]\n    second_link_clean.append(clean_text)"
      ],
      "outputs": []
    },
    {
      "execution_count": 39,
      "cell_type": "code",
      "metadata": {},
      "source": [
        "third_link_clean \u003d []\nfor text in second_link:\n    clean_text \u003d text\n    if type(clean_text) \u003d\u003d str:\n        if text[0] \u003d\u003d \"\u0027\" or text[0] \u003d\u003d \u0027\"\u0027:\n            clean_text \u003d text[1:]\n        if text[-1] \u003d\u003d \"\u0027\" or text[-1] \u003d\u003d \u0027\"\u0027:\n            clean_text \u003d text[:-1]\n    third_link_clean.append(clean_text)"
      ],
      "outputs": []
    },
    {
      "execution_count": 40,
      "cell_type": "code",
      "metadata": {},
      "source": [
        "Twi_Data_cols_parsed_df[\u0027text\u0027] \u003d tweet_text_clean\nTwi_Data_cols_parsed_df[\u0027text_first_link\u0027] \u003d first_link_clean\nTwi_Data_cols_parsed_df[\u0027text_second_link\u0027] \u003d second_link_clean\nTwi_Data_cols_parsed_df[\u0027text_third_link\u0027] \u003d third_link_clean"
      ],
      "outputs": []
    },
    {
      "execution_count": 41,
      "cell_type": "code",
      "metadata": {},
      "source": [
        "Twi_Data_links_df \u003d Twi_Data_cols_parsed_df[[\u0027screen_name\u0027,\u0027date_time\u0027,\u0027text_first_link\u0027,\u0027text_second_link\u0027,\u0027text_third_link\u0027]]"
      ],
      "outputs": []
    },
    {
      "execution_count": 42,
      "cell_type": "code",
      "metadata": {},
      "source": [
        "Twi_Data_links_df"
      ],
      "outputs": [
        {
          "output_type": "execute_result",
          "execution_count": 42,
          "data": {
            "text/plain": "Empty DataFrame\nColumns: [screen_name, date_time, text_first_link, text_second_link, text_third_link]\nIndex: []",
            "text/html": "\n            \u003cbutton style\u003d\"display:none\" \n            class\u003d\"btn btn-default ipython-export-btn\" \n            id\u003d\"btn-df-38757c0a-33b9-4986-bc6d-8a836569be59\" \n            onclick\u003d\"_export_df(\u002738757c0a-33b9-4986-bc6d-8a836569be59\u0027)\"\u003e\n                Export dataframe\n            \u003c/button\u003e\n            \n            \u003cscript\u003e\n                \n                function _check_export_df_possible(dfid,yes_fn,no_fn) {\n                    console.log(\u0027Checking dataframe exportability...\u0027)\n                    if(!IPython || !IPython.notebook || !IPython.notebook.kernel || !IPython.notebook.kernel) {\n                        console.log(\u0027Export is not possible (IPython kernel is not available)\u0027)\n                        if(no_fn) {\n                            no_fn();\n                        }\n                    } else {\n                        var pythonCode \u003d \u0027from dataiku.notebook.export import IPythonExporter;IPythonExporter._check_export_stdout(\"\u0027+dfid+\u0027\")\u0027;\n                        IPython.notebook.kernel.execute(pythonCode,{iopub: {output: function(resp) {\n                            console.info(\"Exportability response\", resp);\n                            var size \u003d /^([0-9]+)x([0-9]+)$/.exec(resp.content.data || resp.content.text)\n                            if(!size) {\n                                console.log(\u0027Export is not possible (dataframe is not in-memory anymore)\u0027)\n                                if(no_fn) {\n                                    no_fn();\n                                }\n                            } else {\n                                console.log(\u0027Export is possible\u0027)\n                                if(yes_fn) {\n                                    yes_fn(1*size[1],1*size[2]);\n                                }\n                            }\n                        }}});\n                    }\n                }\n            \n                function _export_df(dfid) {\n                    \n                    var btn \u003d $(\u0027#btn-df-\u0027+dfid);\n                    var btns \u003d $(\u0027.ipython-export-btn\u0027);\n                    \n                    _check_export_df_possible(dfid,function() {\n                        \n                        window.parent.openExportModalFromIPython(\u0027Pandas dataframe\u0027,function(data) {\n                            btns.prop(\u0027disabled\u0027,true);\n                            btn.text(\u0027Exporting...\u0027);\n                            var command \u003d \u0027from dataiku.notebook.export import IPythonExporter;IPythonExporter._run_export(\"\u0027+dfid+\u0027\",\"\u0027+data.exportId+\u0027\")\u0027;\n                            var callback \u003d {iopub:{output: function(resp) {\n                                console.info(\"CB resp:\", resp);\n                                _check_export_df_possible(dfid,function(rows, cols) {\n                                    $(\u0027#btn-df-\u0027+dfid)\n                                        .css(\u0027display\u0027,\u0027inline-block\u0027)\n                                        .text(\u0027Export this dataframe (\u0027+rows+\u0027 rows, \u0027+cols+\u0027 cols)\u0027)\n                                        .prop(\u0027disabled\u0027,false);\n                                },function() {\n                                    $(\u0027#btn-df-\u0027+dfid).css(\u0027display\u0027,\u0027none\u0027);\n                                });\n                            }}};\n                            IPython.notebook.kernel.execute(command,callback,{silent:false}); // yes, silent now defaults to true. figures.\n                        });\n                    \n                    }, function(){\n                            alert(\u0027Unable to export : the Dataframe object is not loaded in memory\u0027);\n                            btn.css(\u0027display\u0027,\u0027none\u0027);\n                    });\n                    \n                }\n                \n                (function(dfid) {\n                \n                    var retryCount \u003d 10;\n                \n                    function is_valid_websock(s) {\n                        return s \u0026\u0026 s.readyState\u003d\u003d1;\n                    }\n                \n                    function check_conn() {\n                        \n                        if(!IPython || !IPython.notebook) {\n                            // Don\u0027t even try to go further\n                            return;\n                        }\n                        \n                        // Check if IPython is ready\n                        console.info(\"Checking conn ...\")\n                        if(IPython.notebook.kernel\n                        \u0026\u0026 IPython.notebook.kernel\n                        \u0026\u0026 is_valid_websock(IPython.notebook.kernel.ws)\n                        ) {\n                            \n                            _check_export_df_possible(dfid,function(rows, cols) {\n                                $(\u0027#btn-df-\u0027+dfid).css(\u0027display\u0027,\u0027inline-block\u0027);\n                                $(\u0027#btn-df-\u0027+dfid).text(\u0027Export this dataframe (\u0027+rows+\u0027 rows, \u0027+cols+\u0027 cols)\u0027);\n                            });\n                            \n                        } else {\n                            console.info(\"Conditions are not ok\", IPython.notebook.kernel);\n                            \n                            // Retry later\n                            \n                            if(retryCount\u003e0) {\n                                setTimeout(check_conn,500);\n                                retryCount--;\n                            }\n                            \n                        }\n                    };\n                    \n                    setTimeout(check_conn,100);\n                    \n                })(\"38757c0a-33b9-4986-bc6d-8a836569be59\");\n                \n            \u003c/script\u003e\n            \n        \u003cdiv\u003e\n\u003cstyle scoped\u003e\n    .dataframe tbody tr th:only-of-type {\n        vertical-align: middle;\n    }\n\n    .dataframe tbody tr th {\n        vertical-align: top;\n    }\n\n    .dataframe thead th {\n        text-align: right;\n    }\n\u003c/style\u003e\n\u003ctable border\u003d\"1\" class\u003d\"dataframe\"\u003e\n  \u003cthead\u003e\n    \u003ctr style\u003d\"text-align: right;\"\u003e\n      \u003cth\u003e\u003c/th\u003e\n      \u003cth\u003escreen_name\u003c/th\u003e\n      \u003cth\u003edate_time\u003c/th\u003e\n      \u003cth\u003etext_first_link\u003c/th\u003e\n      \u003cth\u003etext_second_link\u003c/th\u003e\n      \u003cth\u003etext_third_link\u003c/th\u003e\n    \u003c/tr\u003e\n  \u003c/thead\u003e\n  \u003ctbody\u003e\n  \u003c/tbody\u003e\n\u003c/table\u003e\n\u003c/div\u003e"
          },
          "metadata": {}
        }
      ]
    },
    {
      "execution_count": 44,
      "cell_type": "code",
      "metadata": {},
      "source": [
        "Twi_Data_Split_Text_Clean_df \u003d Twi_Data_cols_parsed_df # For this sample code, simply copy input to output\n\n# Write recipe outputs\nTwi_Data_Split_Text_Clean \u003d dataiku.Dataset(\"Twi_Data_Split_Text_Clean\")\nTwi_Data_Split_Text_Clean.write_with_schema(Twi_Data_Split_Text_Clean_df)"
      ],
      "outputs": [
        {
          "output_type": "stream",
          "text": "0 rows successfully written (UMUyDVj698)\n",
          "name": "stdout"
        }
      ]
    },
    {
      "execution_count": 0,
      "cell_type": "code",
      "metadata": {},
      "source": [
        ""
      ],
      "outputs": []
    }
  ]
}