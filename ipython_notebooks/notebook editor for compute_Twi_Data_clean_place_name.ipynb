{
  "metadata": {
    "kernelspec": {
      "name": "python3",
      "display_name": "Python 3",
      "language": "python"
    },
    "creator": "admin",
    "createdOn": 1666714288215,
    "tags": [],
    "customFields": {},
    "hide_input": false,
    "language_info": {
      "name": "python",
      "version": "3.7.13",
      "mimetype": "text/x-python",
      "codemirror_mode": {
        "name": "ipython",
        "version": 3
      },
      "pygments_lexer": "ipython3",
      "nbconvert_exporter": "python",
      "file_extension": ".py"
    },
    "modifiedBy": "admin"
  },
  "nbformat": 4,
  "nbformat_minor": 1,
  "cells": [
    {
      "execution_count": 6,
      "cell_type": "code",
      "metadata": {},
      "source": [
        "# -*- coding: utf-8 -*-\nimport dataiku\nimport pandas as pd, numpy as np\nfrom dataiku import pandasutils as pdu\n\n# Read recipe inputs\nTwi_Data_Place_Name_Extract_prepared \u003d dataiku.Dataset(\"Twi_Data_Place_Name_Extract_prepared\")\nTwi_Data_Place_Name_Extract_prepared_df \u003d Twi_Data_Place_Name_Extract_prepared.get_dataframe()"
      ],
      "outputs": []
    },
    {
      "execution_count": 7,
      "cell_type": "code",
      "metadata": {},
      "source": [
        "place_names \u003d Twi_Data_Place_Name_Extract_prepared_df[\u0027place_name\u0027]"
      ],
      "outputs": []
    },
    {
      "execution_count": 14,
      "cell_type": "code",
      "metadata": {},
      "source": [
        "new_place_names \u003d []\nx \u003d \u0027\u0027\nx.replace?"
      ],
      "outputs": [
        {
          "output_type": "stream",
          "text": "Object `replace` not found.\n",
          "name": "stdout"
        }
      ]
    },
    {
      "execution_count": 0,
      "cell_type": "code",
      "metadata": {},
      "source": [
        "\"\".replace"
      ],
      "outputs": []
    },
    {
      "execution_count": 13,
      "cell_type": "code",
      "metadata": {},
      "source": [
        "s \u003d set()\nfor pl in place_names:\n    for word in pl.lower().split():\n        s.add(word)\nlen(s)"
      ],
      "outputs": [
        {
          "output_type": "execute_result",
          "execution_count": 13,
          "data": {
            "text/plain": "12223"
          },
          "metadata": {}
        }
      ]
    },
    {
      "execution_count": 0,
      "cell_type": "code",
      "metadata": {},
      "source": [
        "Twi_Data_clean_place_name_df \u003d Twi_Data_Place_Name_Extract_prepared_df # For this sample code, simply copy input to output\n\n\n# Write recipe outputs\nTwi_Data_clean_place_name \u003d dataiku.Dataset(\"Twi_Data_clean_place_name\")\nTwi_Data_clean_place_name.write_with_schema(Twi_Data_clean_place_name_df)"
      ],
      "outputs": []
    }
  ]
}