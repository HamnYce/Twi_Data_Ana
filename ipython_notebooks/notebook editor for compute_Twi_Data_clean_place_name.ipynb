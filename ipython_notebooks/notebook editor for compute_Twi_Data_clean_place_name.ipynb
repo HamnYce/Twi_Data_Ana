{
  "metadata": {
    "kernelspec": {
      "name": "python3",
      "display_name": "Python 3",
      "language": "python"
    },
    "associatedRecipe": "compute_Twi_Data_clean_place_name",
    "creator": "admin",
    "createdOn": 1666714288215,
    "tags": [
      "recipe-editor"
    ],
    "customFields": {},
    "hide_input": false,
    "language_info": {
      "name": "python",
      "version": "3.7.13",
      "mimetype": "text/x-python",
      "codemirror_mode": {
        "name": "ipython",
        "version": 3
      },
      "pygments_lexer": "ipython3",
      "nbconvert_exporter": "python",
      "file_extension": ".py"
    },
    "modifiedBy": "admin"
  },
  "nbformat": 4,
  "nbformat_minor": 1,
  "cells": [
    {
      "execution_count": 1,
      "cell_type": "code",
      "metadata": {},
      "source": [
        "# -*- coding: utf-8 -*-\nimport dataiku\nimport pandas as pd, numpy as np\nfrom dataiku import pandasutils as pdu\n\n# Read recipe inputs\nTwi_Data_Place_Name_Extract_prepared \u003d dataiku.Dataset(\"Twi_Data_Place_Name_Extract_prepared\")\nTwi_Data_Place_Name_Extract_prepared_df \u003d Twi_Data_Place_Name_Extract_prepared.get_dataframe()"
      ],
      "outputs": []
    },
    {
      "execution_count": 2,
      "cell_type": "code",
      "metadata": {},
      "source": [
        "place_names \u003d Twi_Data_Place_Name_Extract_prepared_df[\u0027place_name\u0027]"
      ],
      "outputs": []
    },
    {
      "execution_count": 3,
      "cell_type": "code",
      "metadata": {},
      "source": [
        "s \u003d set()\nfor pl in place_names:\n    for word in pl.split():\n        s.insert(word)"
      ],
      "outputs": [
        {
          "output_type": "execute_result",
          "execution_count": 3,
          "data": {
            "text/plain": "0                                         salhiya complex\n1                                         bro by brothers\n2                          جمعية مبارك الكبير والقرين (٤)\n3                                  his majesty the coffee\n4                                             chalet k278\n5                                              @starbucks\n6                                          almangaf co-op\n7                                               starbucks\n8                                             rawda co-op\n9                                              الظهر سيتي\n10                      من اول الصبح شيشه 😂😍 (@ بروميناد)\n11                                           grand avenue\n12                                               ishbilya\n13                                                shamiya\n14                                       i\u0027m at starbucks\n15                 american university of the middle east\n16      الوعد باجر ان شاء الله #مدينة_الكويت_لرياضة_ال...\n17                                                trapani\n18                                      al-@amirihospital\n19                                               al quşūr\n20                                   ستاربكس - @starbucks\n21                                                  dasma\n22                                            chalet k278\n23                                            khairan 278\n24                                                  bayan\n25                                            khairan 278\n26                                  mestaw9ef alrumitheya\n27                                                jabriya\n28                            the grove restaurant \u0026 café\n29                                                ام شريف\n30                                                  dasma\n31         kuwait international airport - @kuwaitairports\n32                                     opera kuwait house\n33                                  بيك يو - @pick_kuwait\n34                                          جمعية الجهراء\n35                 american university of the middle east\n36                                             @mayarmall\n37                    cozmo kaifan official - @cozmogroup\n38                                lobster lake - the lake\n39                                            غراند أڤنيو\n40         kuwait international airport - @kuwaitairports\n41                    ملك يا بوجبره تستاهل 🎉🎊❤️ @ Yarmouk\n42                                                ستاربكس\n43                                            غراند أڤنيو\n44                                                   ماكي\n45                              holiday inn - health club\n46                                      starbucks trolley\n47                                    Nighty. (@ عريفجان)\n48                                               السالمية\n49      american college of the middle east(acm) - @ac...\n50                                    @65WZ @Alzuhair لسى\n51                                          crystal tower\n52                                         ديوانيه الغانم\n53       💻💭 (@ Abdullah AlMubarak Block 9 in Kuwait City)\n54                                                 andora\n55      هل أدوية القلق والإكتئاب تسبب إدمان أو يتعود ع...\n56                                         court building\n57                                      oj\u0027s coffee \u0026 tea\n58                                              starbucks\n59                                          @alhamratower\n60      Oggi i podcast vanno di moda, ma dove siamo pa...\n61                                          @alhamratower\n62                    the gathering bistro - @gatheringkw\n63                                    triangle restaurant\n64                                                 egaila\n65       thank you 🤍 (@ KIPCO Tower in Kuwait, Al Asimah)\n66                                          @alhamratower\n67                                            26 february\n68                                         مطعم صوت الهند\n69                                                  qibla\n70                                                    جبد\n71                                         college of law\n72                                        salhiya complex\n73                    @787878i دامك تحبين الغناء غني لي 😔\n74                                   grand avenue phase 4\n75                                                 murouj\n76                                               القادسية\n77                                                ستاربكس\n78                                                pick yo\n79                                               shuwaikh\n80      mövenpick hotel \u0026 resort al bida\u0027a - @movenpic...\n81                              % arabica abu al-hasaniya\n82                                           tobys estate\n83                                  cozmo jalboot village\n84                                              starbucks\n85                                          face/off cafe\n86                                          @alhamratower\n87                                            bnaider 258\n88      الحسينية السجاديه 🖤 (@ Rumaithya Block 2 in Ha...\n89                                        burger boutique\n90      jaber al-ahmad central library - kuwait univer...\n91                                     Gm 💖 @ Kuwait City\n92                                         watania resort\n93                                     abdulla al-mubarak\n94                           kuwait international airport\n95                                               al quşūr\n96                                                الزهراء\n97      لي متى 🙂💔 (@ برنامج إعادة هيكلة القوى العاملة ...\n98                   استاد جابر الأحمد الدولي - @shababjs\n99                                            bnaider 258\n100     اللهم اشفي امي و قومها بسلامه ادولها دشت عمليا...\n101                                             dose café\n102                                           nuzha co-op\n103                                             canephora\n104                          kuwait international airport\n                              ...                        \n9895                                            starbucks\n9896                                      عبدالله المبارك\n9897                             messilah equestrian club\n9898            Happy birthday Emy 🎂🎂🎂🎇🎇❤❤❤😘😘 @EmyGARTANI\n9899                         kuwait international airport\n9900                shaikh jaber al-ahmad cultural center\n9901                                                locus\n9902                                          chalet k278\n9903                          the grove restaurant \u0026 café\n9904                                            starbucks\n9905                                          kuwait city\n9906                                              yarmouk\n9907                             جامعة الكويت كلية الحقوق\n9908                                    kuwait university\n9909                                              eggslut\n9910       جنا ردينا يالربع ردينا (@ Victory Health Club)\n9911                                              trapani\n9912                       (@ Starbucks in Sabah Alsalem)\n9913    نسألكم الدعاء🤲🏼 (@ College of Law in Kuwait Ci...\n9914                                alsalam - @salam_city\n9915                                              julai\u0027a\n9916    نسيت اسوي 🤦🏼‍♂️💔 (@ مروج in Sabhan, Kuwait Cit...\n9917    اخر صورة، امس نمت ونسيت اكمل 😅Time to call it ...\n9918                                   souq al mubarakiya\n9919                                       joy - the spot\n9920                                               zone 7\n9921                                               الرقعي\n9922                       al hamra resturant at sheraton\n9923      kuwait institute for scientific research - kisr\n9924                                           ace coffee\n9925                                        مصبغه الجمعيه\n9926                                           @starbucks\n9927    للمرة الثانية 🤦🏽‍♀️😂 (@ Souq Al Mubarakiya in ...\n9928    👍🏼😁❤️مع الربع الچياكر ناصر العطيه مشاري السلطا...\n9929                                          صباح السالم\n9930    السلام عليكم للبيع وانيت سلفرادو LT قماره مودي...\n9931                                    pick yo - yarmouk\n9932                                             fbm high\n9933                                           جمعيه هديه\n9934                                             فرع قطعة\n9935                                   oxygen fitness gym\n9936                                          كلية العلوم\n9937                                             bee salt\n9938                                                vol.1\n9939                                          kuwait city\n9940                                               egaila\n9941                                         طريـج الملـك\n9942                                          the avenues\n9943                shaikh jaber al-ahmad cultural center\n9944                                                salwa\n9945             .:ودوني شرم نفسيتي تعبانه 😜.:.ابتسم دام…\n9946                                           college of\n9947                                    jamal abdulnasser\n9948                                          south surra\n9949                                          chalet k278\n9950                                               egaila\n9951                                               egaila\n9952    american university of the middle east - @offi...\n9953                                      scholar studies\n9954                               flex fitness for women\n9955                               pick yo - @pick_kuwait\n9956                                                قرطبة\n9957                     college of technological studies\n9958                                          غراند أڤنيو\n9959                     college of technological studies\n9960    صباح الخير (@ College of Technological Studies...\n9961                                    pick-yo - jabriya\n9962                                 mcdonalds al khairan\n9963                                        الهيئه العامة\n9964                                            starbucks\n9965                         kuwait international airport\n9966                                             shuwaikh\n9967    #productphotography #product #stilllifephotogr...\n9968                                                قرطبة\n9969    رسالة .. لرُبما تصل !   ”تمنيتُ تحت المظلة نفس...\n9970            وتَسْألني كيفَ حالي وأنت جوابُ السؤال..!!\n9971                                           college of\n9972                                       الدائري الخامس\n9973    🙋🏽‍♂️ (@ GATE Eight Coffee in Kuwait City, Al ...\n9974                                        @MrHeshamq 😂🤣\n9975                                   abdulla al-mubarak\n9976               american university of the middle east\n9977           american university of kuwait - @auktweets\n9978                 college of engineering and petroleum\n9979                                      jalboot village\n9980                                          love street\n9981                               west mishrif (block 1)\n9982                                              pick yo\n9983                                   abdulla al-mubarak\n9984                                           college of\n9985                                           college of\n9986                                            جسر جميرا\n9987                                              الأحمدي\n9988                                             الأڤنيوز\n9989                               almajhouli\u0027s residence\n9990                                       messilah water\n9991                                           @starbucks\n9992                                 مسرحية خطوات الشيطان\n9993                                      السالمية-قطعة 9\n9994                                            starbucks\n9995                                   souq al mubarakiya\n9996    #صحتك_مسؤوليتك #صحتك_ثروتك .بكل بساطة عيش حياة...\n9997         فندق ومنتجع جميرا شاطئ المسيلة - @jumeirahmb\n9998                                           makerfaire\n9999                                          غراند أڤنيو\nName: place_name, Length: 10000, dtype: object"
          },
          "metadata": {}
        }
      ]
    },
    {
      "execution_count": 0,
      "cell_type": "code",
      "metadata": {},
      "source": [
        "Twi_Data_clean_place_name_df \u003d Twi_Data_Place_Name_Extract_prepared_df # For this sample code, simply copy input to output\n\n\n# Write recipe outputs\nTwi_Data_clean_place_name \u003d dataiku.Dataset(\"Twi_Data_clean_place_name\")\nTwi_Data_clean_place_name.write_with_schema(Twi_Data_clean_place_name_df)"
      ],
      "outputs": []
    }
  ]
}