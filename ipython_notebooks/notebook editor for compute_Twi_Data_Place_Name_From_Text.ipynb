{
  "metadata": {
    "kernelspec": {
      "name": "python3",
      "display_name": "Python 3",
      "language": "python"
    },
    "associatedRecipe": "compute_Twi_Data_Place_Name_From_Text",
    "dkuGit": {
      "lastInteraction": 0
    },
    "creationTag": {
      "versionNumber": 0,
      "lastModifiedBy": {
        "login": "admin"
      },
      "lastModifiedOn": 1666721788670
    },
    "creator": "admin",
    "createdOn": 1666721788670,
    "tags": [],
    "customFields": {},
    "hide_input": false,
    "language_info": {
      "name": "python",
      "version": "3.7.13",
      "mimetype": "text/x-python",
      "codemirror_mode": {
        "name": "ipython",
        "version": 3
      },
      "pygments_lexer": "ipython3",
      "nbconvert_exporter": "python",
      "file_extension": ".py"
    },
    "modifiedBy": "admin"
  },
  "nbformat": 4,
  "nbformat_minor": 1,
  "cells": [
    {
      "execution_count": 1,
      "cell_type": "code",
      "metadata": {},
      "source": [
        "# -*- coding: utf-8 -*-\nimport dataiku\nimport pandas as pd, numpy as np\nfrom dataiku import pandasutils as pdu\n\n# Read recipe inputs\nTwi_Data_no_links \u003d dataiku.Dataset(\"Twi_Data_no_links\")\nTwi_Data_no_links_df \u003d Twi_Data_no_links.get_dataframe()"
      ],
      "outputs": []
    },
    {
      "cell_type": "markdown",
      "metadata": {},
      "source": [
        "#### dropping nill values (about 600ish, hopefully doesn\u0027t make a big difference)"
      ]
    },
    {
      "execution_count": 0,
      "cell_type": "code",
      "metadata": {},
      "source": [
        "Twi_Data_no_links_df.dropna(inplace\u003dTrue)"
      ],
      "outputs": []
    },
    {
      "execution_count": 4,
      "cell_type": "code",
      "metadata": {},
      "source": [
        "Twi_Data_no_links_df[\u0027place_name\u0027]"
      ],
      "outputs": [
        {
          "output_type": "execute_result",
          "execution_count": 4,
          "data": {
            "text/plain": "0                             ardiya small industrial kuwait\n1                                        al farwaniya kuwait\n2                                            al riqai kuwait\n3                                               zahra kuwait\n4                                      al mansouriyah kuwait\n5                                              al rai kuwait\n6                                              al rai kuwait\n7                             ardiya small industrial kuwait\n8                                        al farwaniya kuwait\n9                                        al farwaniya kuwait\n10                                       al farwaniya kuwait\n11                                           al wusta kuwait\n12                                          ashbeliah kuwait\n13                                           al jahra kuwait\n14                             al shuwaikh industrial kuwait\n15                         al ardhiya government uses kuwait\n16                         al ardhiya government uses kuwait\n17                         al ardhiya government uses kuwait\n18                                             al rai kuwait\n19                                           al qibla kuwait\n20                                             al rai kuwait\n21                                           al riqai kuwait\n22                                           al riqai kuwait\n23                             al shuwaikh industrial kuwait\n24                             al shuwaikh industrial kuwait\n25                                           al riqai kuwait\n26                                           al riqai kuwait\n27                                           al riqai kuwait\n28                                           al riqai kuwait\n29                                      coast strip a kuwait\n30                                           al riqai kuwait\n31                            ardiya small industrial kuwait\n32                         al ardhiya government uses kuwait\n33                                mubarak al abdullah kuwait\n34                            مدينة جابر الأحمد دولة الكويت\n35                                             al rai kuwait\n36                                              zahra kuwait\n37                                          حولى دولة الكويت\n38                                          حولى دولة الكويت\n39                                      الجابريه دولة الكويت\n40                                      الجابريه دولة الكويت\n41                         al ardhiya government uses kuwait\n42                                           al shaab kuwait\n43                         ضاحية مبارك العبدالله دولة الكويت\n44                                             al rai kuwait\n45                                       airport area kuwait\n46                                        al andalous kuwait\n47                                        al andalous kuwait\n48                                        al andalous kuwait\n49                                      الجابريه دولة الكويت\n50                                      الجابريه دولة الكويت\n51                                          الري دولة الكويت\n52                                          سلوى دولة الكويت\n53                                      الأندلس دولة الكويت\n54                                     the green belt kuwait\n55                                           al qibla kuwait\n56                                            khaitan kuwait\n57                                       airport area kuwait\n58                                     al ahmady city kuwait\n59                                     al ahmady city kuwait\n60                                           al jahra kuwait\n61                                           al jahra kuwait\n62                                          al egaila kuwait\n63                                          al egaila kuwait\n64                                            hawalli kuwait\n65                                        al salmiyah kuwait\n66                                        al shuwaikh kuwait\n67                                     sabah al salem kuwait\n68                                     sabah al salem kuwait\n69                                       airport area kuwait\n70                                        al jabriyah kuwait\n71                                           al sharq kuwait\n72                                            qortuba kuwait\n73                                        al jabriyah kuwait\n74                                            mishrif kuwait\n75                                            qortuba kuwait\n76                                           al sharq kuwait\n77                                      coast strip b kuwait\n78                                   abdulla al salem kuwait\n79                                              zahra kuwait\n80                                        al jabriyah kuwait\n81                                             al rai kuwait\n82                                            mishrif kuwait\n83                                           al sharq kuwait\n84                                     sabah al salem kuwait\n85                                           al sharq kuwait\n86                                           al sharq kuwait\n87                                           al sharq kuwait\n88                                           al sharq kuwait\n89                                        al jabriyah kuwait\n90                                            mishrif kuwait\n91                                           al sharq kuwait\n92                                        al jabriyah kuwait\n93                                           al sharq kuwait\n94                                           al sharq kuwait\n95                                        al jabriyah kuwait\n96                                           al sharq kuwait\n97                                     sabah al salem kuwait\n98                                        al jabriyah kuwait\n99                                           al sharq kuwait\n100                                          al sharq kuwait\n101                                           mishrif kuwait\n102                                          al surra kuwait\n103                                           qortuba kuwait\n104                                           mishrif kuwait\n                                 ...                        \n2725506                                                  NaN\n2725507                                                  NaN\n2725508                                                  NaN\n2725509                                                  NaN\n2725510                                                  NaN\n2725511                                                  NaN\n2725512                                                  NaN\n2725513                                                  NaN\n2725514                                                  NaN\n2725515                                                  NaN\n2725516                                                  NaN\n2725517                                                  NaN\n2725518                                                  NaN\n2725519                                                  NaN\n2725520                                                  NaN\n2725521                                                  NaN\n2725522                                       hawalli kuwait\n2725523                                                  NaN\n2725524                                                  NaN\n2725525                                                  NaN\n2725526                                                  NaN\n2725527                                                  NaN\n2725528                                                  NaN\n2725529    xd8 xb9 xd8 xa8 xd8 xaf xd8 xa7 xd9 x84 xd9 x8...\n2725530                                                  NaN\n2725531                                                  NaN\n2725532                                                  NaN\n2725533                                                  NaN\n2725534                                                  NaN\n2725535                                                  NaN\n2725536                                                  NaN\n2725537                                                  NaN\n2725538                                                  NaN\n2725539                                                  NaN\n2725540                                                  NaN\n2725541                                                  NaN\n2725542                                                  NaN\n2725543                                                  NaN\n2725544                                                  NaN\n2725545                                                  NaN\n2725546                                                  NaN\n2725547                                                  NaN\n2725548                                                  NaN\n2725549                                                  NaN\n2725550                                                  NaN\n2725551                                                  NaN\n2725552                                                  NaN\n2725553                                                  NaN\n2725554                                                  NaN\n2725555                                                  NaN\n2725556                                                  NaN\n2725557                                                  NaN\n2725558                                                  NaN\n2725559                                                  NaN\n2725560                                                  NaN\n2725561                                                  NaN\n2725562                                                  NaN\n2725563                                                  NaN\n2725564                                                  NaN\n2725565                                                  NaN\n2725566                                                  NaN\n2725567                                                  NaN\n2725568                                                  NaN\n2725569                                                  NaN\n2725570                                                  NaN\n2725571                                                  NaN\n2725572                                                  NaN\n2725573                                                  NaN\n2725574                                                  NaN\n2725575                                                  NaN\n2725576                                                  NaN\n2725577                                                  NaN\n2725578                                                  NaN\n2725579                                                  NaN\n2725580                                                  NaN\n2725581                                                  NaN\n2725582                                                  NaN\n2725583                                                  NaN\n2725584                                                  NaN\n2725585                                                  NaN\n2725586                                                  NaN\n2725587                                                  NaN\n2725588                                                  NaN\n2725589                                                  NaN\n2725590                                                  NaN\n2725591                                                  NaN\n2725592                                      al sharq kuwait\n2725593                                                  NaN\n2725594                                                  NaN\n2725595                                                  NaN\n2725596                                                  NaN\n2725597                                                  NaN\n2725598                                                  NaN\n2725599                                                  NaN\n2725600                                                  NaN\n2725601                                                  NaN\n2725602                                                  NaN\n2725603                                                  NaN\n2725604                                                  NaN\n2725605                                                  NaN\n2725606                                                  NaN\n2725607    xd8 xac xd8 xa7 xd8 xa8 xd8 xb1 xd8 xa7 xd9 x8...\n2725608                                                  NaN\n2725609                                                  NaN\n2725610                                                  NaN\nName: place_name, Length: 2725611, dtype: object"
          },
          "metadata": {}
        }
      ]
    },
    {
      "cell_type": "markdown",
      "metadata": {},
      "source": [
        "#### cleaning text_tweets"
      ]
    },
    {
      "execution_count": 0,
      "cell_type": "code",
      "metadata": {},
      "source": [
        "# make new column that says place_name\nplace_names \u003d []\n# TODO: loop through text and extract 1 or 2 words after \"I\u0027m at\"\nfor text in Twi_Data_no_links_df[\u0027tweet_text_clean\u0027]:\n    split_text \u003d text.split()\n    if len(split_text) \u003d\u003d 1:\n        place_names.append(split_text[0])\n    elif split_text[0] \u003d\u003d \"i\u0027m\" and split_text[1] \u003d\u003d \u0027at\u0027:\n        index \u003d 4\n        if \u0027in\u0027 in split_text:\n            index \u003d split_text.index(\u0027in\u0027)\n        place_names.append(\u0027 \u0027.join(split_text[2:index]))\n    else:\n        place_names.append(\"nu\")"
      ],
      "outputs": []
    },
    {
      "execution_count": 0,
      "cell_type": "code",
      "metadata": {},
      "source": [
        "Twi_Data_no_links_df[\u0027place_text_name\u0027] \u003d place_names"
      ],
      "outputs": []
    },
    {
      "cell_type": "markdown",
      "metadata": {},
      "source": [
        "#### Getting app name from the HTML"
      ]
    },
    {
      "execution_count": 0,
      "cell_type": "code",
      "metadata": {},
      "source": [
        "apps \u003d Twi_Data_no_links_df[\u0027app\u0027]\nclean_apps \u003d []\ntry:\n    for app in apps:\n        app \u003d apps[0].split(\u0027,\u0027)\n        app_com_index \u003d app.index(\u0027\"com\"\u0027)\n        app \u003d app[app_com_index - 1].strip(\u0027\"\u0027)\n        clean_apps.append(app)\nexcept:\n    print(app)"
      ],
      "outputs": []
    },
    {
      "execution_count": 0,
      "cell_type": "code",
      "metadata": {},
      "source": [
        "Twi_Data_no_links_df[\u0027app\u0027] \u003d clean_apps"
      ],
      "outputs": []
    },
    {
      "execution_count": 0,
      "cell_type": "code",
      "metadata": {},
      "source": [
        "Twi_Data_Place_Name_From_Text_df \u003d Twi_Data_no_links_df # For this sample code, simply copy input to output\n\n\n# Write recipe outputs\nTwi_Data_Place_Name_From_Text \u003d dataiku.Dataset(\"Twi_Data_Place_Name_From_Text\")\nTwi_Data_Place_Name_From_Text.write_with_schema(Twi_Data_Place_Name_From_Text_df)"
      ],
      "outputs": []
    }
  ]
}