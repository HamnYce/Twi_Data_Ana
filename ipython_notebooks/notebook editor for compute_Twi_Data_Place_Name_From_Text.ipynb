{
  "metadata": {
    "kernelspec": {
      "display_name": "Python 3",
      "language": "python",
      "name": "python3"
    },
    "dkuGit": {
      "lastInteraction": 0
    },
    "creationTag": {
      "versionNumber": 0,
      "lastModifiedBy": {
        "login": "admin"
      },
      "lastModifiedOn": 1666721788670
    },
    "creator": "admin",
    "createdOn": 1666721788670,
    "tags": [
      "deleted-recipe-editor"
    ],
    "customFields": {}
  },
  "nbformat": 4,
  "nbformat_minor": 0,
  "cells": [
    {
      "execution_count": 0,
      "cell_type": "code",
      "metadata": {},
      "source": [
        "# -*- coding: utf-8 -*-\n",
        "import dataiku\n",
        "import pandas as pd, numpy as np\n",
        "from dataiku import pandasutils as pdu\n",
        "\n",
        "# Read recipe inputs\n",
        "Twi_Data_no_links \u003d dataiku.Dataset(\"Twi_Data_no_links\")\n",
        "Twi_Data_no_links_df \u003d Twi_Data_no_links.get_dataframe()"
      ],
      "outputs": []
    },
    {
      "cell_type": "markdown",
      "metadata": {},
      "source": [
        "#### cleaning text_tweets"
      ]
    },
    {
      "execution_count": 0,
      "cell_type": "code",
      "metadata": {},
      "source": [
        "# make new column that says place_name\n",
        "place_names \u003d []\n",
        "# TODO: loop through text and extract 1 or 2 words after \"I\u0027m at\"\n",
        "for text in Twi_Data_no_links_df[\u0027tweet_text_clean\u0027]:\n",
        "    split_text \u003d text.split()\n",
        "    if len(split_text) \u003d\u003d 1:\n",
        "        place_names.append(split_text[0])\n",
        "    elif split_text[0] \u003d\u003d \"i\u0027m\" and split_text[1] \u003d\u003d \u0027at\u0027:\n",
        "        index \u003d 4\n",
        "        if \u0027in\u0027 in split_text:\n",
        "            index \u003d split_text.index(\u0027in\u0027)\n",
        "        place_names.append(\u0027 \u0027.join(split_text[2:index]))\n",
        "    else:\n",
        "        place_names.append(\"nu\")"
      ],
      "outputs": []
    },
    {
      "execution_count": 0,
      "cell_type": "code",
      "metadata": {},
      "source": [
        "Twi_Data_no_links_df[\u0027place_text_name\u0027] \u003d place_names"
      ],
      "outputs": []
    },
    {
      "cell_type": "markdown",
      "metadata": {},
      "source": [
        "#### Getting app name from the HTML"
      ]
    },
    {
      "execution_count": 0,
      "cell_type": "code",
      "metadata": {},
      "source": [
        "apps \u003d Twi_Data_no_links_df[\u0027app\u0027]\n",
        "clean_apps \u003d []\n",
        "try:\n",
        "    for app in apps:\n",
        "        app \u003d apps[0].split(\u0027,\u0027)\n",
        "        app_com_index \u003d app.index(\u0027\"com\"\u0027)\n",
        "        app \u003d app[app_com_index - 1].strip(\u0027\"\u0027)\n",
        "        clean_apps.append(app)\n",
        "except:\n",
        "    print(app)"
      ],
      "outputs": []
    },
    {
      "execution_count": 0,
      "cell_type": "code",
      "metadata": {},
      "source": [
        "Twi_Data_no_links_df[\u0027app\u0027] \u003d clean_apps"
      ],
      "outputs": []
    },
    {
      "execution_count": 0,
      "cell_type": "code",
      "metadata": {},
      "source": [
        "Twi_Data_Place_Name_From_Text_df \u003d Twi_Data_no_links_df # For this sample code, simply copy input to output\n",
        "\n",
        "\n",
        "# Write recipe outputs\n",
        "Twi_Data_Place_Name_From_Text \u003d dataiku.Dataset(\"Twi_Data_Place_Name_From_Text\")\n",
        "Twi_Data_Place_Name_From_Text.write_with_schema(Twi_Data_Place_Name_From_Text_df)"
      ],
      "outputs": []
    }
  ]
}