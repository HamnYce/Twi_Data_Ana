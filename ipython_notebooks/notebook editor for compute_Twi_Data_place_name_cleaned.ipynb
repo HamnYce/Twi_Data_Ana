{
  "metadata": {
    "kernelspec": {
      "name": "python3",
      "display_name": "Python 3",
      "language": "python"
    },
    "associatedRecipe": "compute_Twi_Data_place_name_cleaned",
    "creator": "admin",
    "createdOn": 1667504883928,
    "tags": [
      "recipe-editor"
    ],
    "customFields": {},
    "hide_input": false,
    "language_info": {
      "name": "python",
      "version": "3.7.13",
      "mimetype": "text/x-python",
      "codemirror_mode": {
        "name": "ipython",
        "version": 3
      },
      "pygments_lexer": "ipython3",
      "nbconvert_exporter": "python",
      "file_extension": ".py"
    },
    "modifiedBy": "admin"
  },
  "nbformat": 4,
  "nbformat_minor": 1,
  "cells": [
    {
      "execution_count": 1,
      "cell_type": "code",
      "metadata": {},
      "source": [
        "# -*- coding: utf-8 -*-\nimport dataiku\nimport pandas as pd, numpy as np\nfrom dataiku import pandasutils as pdu\n\n# Read recipe inputs\nTwi_Data_no_links \u003d dataiku.Dataset(\"Twi_Data_no_links\")\nTwi_Data_no_links_df \u003d Twi_Data_no_links.get_dataframe()"
      ],
      "outputs": []
    },
    {
      "execution_count": 3,
      "cell_type": "code",
      "metadata": {},
      "source": [
        "place_names \u003d Twi_Data_no_links_df[\u0027place_name\u0027]"
      ],
      "outputs": []
    },
    {
      "execution_count": 6,
      "cell_type": "code",
      "metadata": {},
      "source": [
        "place_names.str.strip(\"\u0027\").str.strip(\u0027\"\u0027)"
      ],
      "outputs": [
        {
          "output_type": "execute_result",
          "execution_count": 6,
          "data": {
            "text/plain": "0          \\xd8\\xa7\\xd9\\x84\\xd8\\xac\\xd9\\x84\\xd9\\x8a\\xd8\\x...\n1          \\xd8\\xb5\\xd8\\xa8\\xd8\\xa7\\xd8\\xad \\xd8\\xa7\\xd9\\...\n2          \\xd8\\xa7\\xd9\\x84\\xd8\\xb4\\xd8\\xb1\\xd9\\x82, \\xd8...\n3          \\xd8\\xa7\\xd9\\x84\\xd8\\xb4\\xd8\\xb1\\xd9\\x82, \\xd8...\n4          \\xd8\\xa7\\xd9\\x84\\xd8\\xa7\\xd8\\xad\\xd9\\x85\\xd8\\x...\n5          \\xd8\\xa7\\xd9\\x84\\xd8\\xb1\\xd9\\x8a, \\xd8\\xaf\\xd9...\n6          \\xd8\\xa8\\xd9\\x86\\xd9\\x8a\\xd8\\xaf \\xd8\\xa7\\xd9\\...\n7          \\xd8\\xa7\\xd9\\x84\\xd8\\xb4\\xd9\\x88\\xd9\\x8a\\xd8\\x...\n8          \\xd8\\xb5\\xd8\\xa8\\xd8\\xa7\\xd8\\xad \\xd8\\xa7\\xd9\\...\n9          \\xd8\\xa5\\xd8\\xb4\\xd8\\xa8\\xd9\\x8a\\xd9\\x84\\xd9\\x...\n10         \\xd8\\xa7\\xd9\\x84\\xd9\\x82\\xd8\\xa8\\xd9\\x84\\xd9\\x...\n11         \\xd9\\x85\\xd8\\xaf\\xd9\\x8a\\xd9\\x86\\xd8\\xa9 \\xd8\\...\n12         \\xd8\\xa7\\xd9\\x84\\xd8\\xb4\\xd8\\xb1\\xd9\\x82, \\xd8...\n13         \\xd8\\xa7\\xd9\\x84\\xd8\\xb4\\xd8\\xb1\\xd9\\x82, \\xd8...\n14         \\xd8\\xa7\\xd9\\x84\\xd8\\xb4\\xd9\\x88\\xd9\\x8a\\xd8\\x...\n15         \\xd8\\xa7\\xd9\\x84\\xd8\\xb1\\xd9\\x8a, \\xd8\\xaf\\xd9...\n16         \\xd8\\xa7\\xd9\\x84\\xd8\\xb1\\xd9\\x8a, \\xd8\\xaf\\xd9...\n17         \\xd8\\xa7\\xd9\\x84\\xd8\\xb1\\xd9\\x8a, \\xd8\\xaf\\xd9...\n18         \\xd8\\xa7\\xd9\\x84\\xd8\\xb1\\xd9\\x8a, \\xd8\\xaf\\xd9...\n19         \\xd8\\xa7\\xd9\\x84\\xd8\\xb4\\xd8\\xb1\\xd9\\x82, \\xd8...\n20         \\xd9\\x85\\xd8\\xaf\\xd9\\x8a\\xd9\\x86\\xd8\\xa9 \\xd8\\...\n21         \\xd8\\xa7\\xd9\\x84\\xd8\\xb1\\xd9\\x8a, \\xd8\\xaf\\xd9...\n22         \\xd8\\xa7\\xd9\\x84\\xd8\\xac\\xd9\\x84\\xd9\\x8a\\xd8\\x...\n23         \\xd8\\xa7\\xd9\\x84\\xd8\\xb1\\xd9\\x8a, \\xd8\\xaf\\xd9...\n24         \\xd8\\xa7\\xd9\\x84\\xd8\\xb4\\xd9\\x88\\xd9\\x8a\\xd8\\x...\n25         \\xd8\\xa7\\xd9\\x84\\xd9\\x82\\xd8\\xa8\\xd9\\x84\\xd9\\x...\n26         \\xd8\\xa7\\xd9\\x84\\xd8\\xb1\\xd9\\x8a, \\xd8\\xaf\\xd9...\n27         \\xd8\\xa7\\xd9\\x84\\xd9\\x82\\xd8\\xa8\\xd9\\x84\\xd9\\x...\n28         \\xd8\\xa7\\xd9\\x84\\xd8\\xb1\\xd9\\x8a, \\xd8\\xaf\\xd9...\n29         \\xd8\\xa7\\xd9\\x84\\xd9\\x82\\xd8\\xa8\\xd9\\x84\\xd9\\x...\n30         \\xd8\\xa7\\xd9\\x84\\xd8\\xb4\\xd9\\x88\\xd9\\x8a\\xd8\\x...\n31         \\xd8\\xa7\\xd9\\x84\\xd8\\xb4\\xd9\\x88\\xd9\\x8a\\xd8\\x...\n32         \\xd8\\xa7\\xd9\\x84\\xd8\\xb1\\xd9\\x8a, \\xd8\\xaf\\xd9...\n33         \\xd8\\xa7\\xd9\\x84\\xd9\\x88\\xd8\\xb3\\xd8\\xb7\\xd9\\x...\n34         \\xd8\\xa7\\xd9\\x84\\xd9\\x88\\xd8\\xb3\\xd8\\xb7\\xd9\\x...\n35                                        Mishrif, Kuwait\u0027\u0027,\n36         \\xd8\\xa7\\xd9\\x84\\xd8\\xb4\\xd8\\xb1\\xd9\\x82, \\xd8...\n37         \\xd8\\xa7\\xd9\\x84\\xd8\\xb4\\xd8\\xb1\\xd9\\x82, \\xd8...\n38         \\xd8\\xa7\\xd9\\x84\\xd9\\x88\\xd8\\xa7\\xd8\\xac\\xd9\\x...\n39         \\xd8\\xa7\\xd9\\x84\\xd9\\x82\\xd8\\xa8\\xd9\\x84\\xd9\\x...\n40         \\xd8\\xa7\\xd9\\x84\\xd9\\x85\\xd8\\xb1\\xd9\\x82\\xd8\\x...\n41         \\xd9\\x85\\xd9\\x8a\\xd9\\x86\\xd8\\xa7\\xd8\\xa1 \\xd8\\...\n42         \\xd8\\xb5\\xd8\\xa8\\xd8\\xa7\\xd8\\xad \\xd8\\xa7\\xd9\\...\n43         \\xd9\\x85\\xd8\\xaf\\xd9\\x8a\\xd9\\x86\\xd8\\xa9 \\xd8\\...\n44         \\xd9\\x85\\xd8\\xaf\\xd9\\x8a\\xd9\\x86\\xd8\\xa9 \\xd8\\...\n45         \\xd9\\x85\\xd8\\xaf\\xd9\\x8a\\xd9\\x86\\xd8\\xa9 \\xd8\\...\n46         \\xd9\\x85\\xd8\\xaf\\xd9\\x8a\\xd9\\x86\\xd8\\xa9 \\xd8\\...\n47         \\xd9\\x85\\xd8\\xaf\\xd9\\x8a\\xd9\\x86\\xd8\\xa9 \\xd8\\...\n48         \\xd9\\x85\\xd8\\xaf\\xd9\\x8a\\xd9\\x86\\xd8\\xa9 \\xd8\\...\n49         \\xd8\\xa7\\xd9\\x84\\xd8\\xac\\xd9\\x87\\xd8\\xb1\\xd8\\x...\n50         \\xd8\\xa7\\xd9\\x84\\xd8\\xac\\xd9\\x87\\xd8\\xb1\\xd8\\x...\n51         \\xd8\\xa7\\xd9\\x84\\xd8\\xac\\xd9\\x87\\xd8\\xb1\\xd8\\x...\n52         \\xd8\\xa7\\xd9\\x84\\xd8\\xac\\xd9\\x84\\xd9\\x8a\\xd8\\x...\n53         \\xd8\\xa7\\xd9\\x84\\xd8\\xb4\\xd8\\xb1\\xd9\\x82, \\xd8...\n54         \\xd8\\xa7\\xd9\\x84\\xd8\\xb4\\xd8\\xb1\\xd9\\x82, \\xd8...\n55         \\xd8\\xa7\\xd9\\x84\\xd8\\xb4\\xd9\\x88\\xd9\\x8a\\xd8\\x...\n56         \\xd8\\xa7\\xd9\\x84\\xd8\\xb4\\xd8\\xb1\\xd9\\x82, \\xd8...\n57         \\xd8\\xa7\\xd9\\x84\\xd8\\xb4\\xd8\\xb1\\xd9\\x82, \\xd8...\n58         \\xd8\\xa7\\xd9\\x84\\xd8\\xb4\\xd9\\x88\\xd9\\x8a\\xd8\\x...\n59         \\xd8\\xa7\\xd9\\x84\\xd8\\xb4\\xd9\\x88\\xd9\\x8a\\xd8\\x...\n60         \\xd8\\xa7\\xd9\\x84\\xd8\\xb4\\xd8\\xb1\\xd9\\x82, \\xd8...\n61         \\xd8\\xa7\\xd9\\x84\\xd8\\xb4\\xd8\\xb1\\xd9\\x82, \\xd8...\n62         \\xd8\\xa7\\xd9\\x84\\xd8\\xb4\\xd8\\xb1\\xd9\\x82, \\xd8...\n63         \\xd8\\xa7\\xd9\\x84\\xd8\\xb4\\xd8\\xb1\\xd9\\x82, \\xd8...\n64         \\xd8\\xa7\\xd9\\x84\\xd8\\xb4\\xd8\\xb1\\xd9\\x82, \\xd8...\n65         \\xd8\\xa7\\xd9\\x84\\xd8\\xb4\\xd8\\xb1\\xd9\\x82, \\xd8...\n66         \\xd8\\xa5\\xd8\\xb4\\xd8\\xa8\\xd9\\x8a\\xd9\\x84\\xd9\\x...\n67         \\xd8\\xa7\\xd9\\x84\\xd8\\xb9\\xd8\\xa7\\xd8\\xb1\\xd8\\x...\n68                                       Al Sharq, Kuwait\u0027\u0027,\n69         \\xd8\\xa7\\xd9\\x84\\xd8\\xb4\\xd9\\x88\\xd9\\x8a\\xd8\\x...\n70         \\xd8\\xa7\\xd9\\x84\\xd8\\xb4\\xd8\\xb1\\xd9\\x82, \\xd8...\n71         \\xd8\\xa7\\xd9\\x84\\xd8\\xb4\\xd8\\xb1\\xd9\\x82, \\xd8...\n72         \\xd8\\xa7\\xd9\\x84\\xd8\\xb4\\xd9\\x88\\xd9\\x8a\\xd8\\x...\n73         \\xd8\\xa7\\xd9\\x84\\xd8\\xb4\\xd8\\xb1\\xd9\\x82, \\xd8...\n74         \\xd8\\xa7\\xd9\\x84\\xd8\\xb4\\xd9\\x88\\xd9\\x8a\\xd8\\x...\n75         \\xd8\\xa7\\xd9\\x84\\xd8\\xb4\\xd9\\x88\\xd9\\x8a\\xd8\\x...\n76         \\xd8\\xa7\\xd9\\x84\\xd8\\xb4\\xd9\\x88\\xd9\\x8a\\xd8\\x...\n77         \\xd8\\xa7\\xd9\\x84\\xd8\\xb4\\xd9\\x88\\xd9\\x8a\\xd8\\x...\n78         \\xd8\\xa7\\xd9\\x84\\xd8\\xb4\\xd9\\x88\\xd9\\x8a\\xd8\\x...\n79         \\xd8\\xa7\\xd9\\x84\\xd8\\xb4\\xd9\\x88\\xd9\\x8a\\xd8\\x...\n80         \\xd8\\xa7\\xd9\\x84\\xd8\\xb4\\xd9\\x88\\xd9\\x8a\\xd8\\x...\n81         \\xd8\\xa7\\xd9\\x84\\xd8\\xb1\\xd9\\x8a, \\xd8\\xaf\\xd9...\n82         \\xd8\\xa7\\xd9\\x84\\xd8\\xb3\\xd8\\xb1\\xd9\\x87, \\xd8...\n83         \\xd9\\x85\\xd9\\x86\\xd8\\xb7\\xd9\\x82\\xd8\\xa9 \\xd8\\...\n84         \\xd8\\xa7\\xd9\\x84\\xd8\\xb4\\xd8\\xb1\\xd9\\x8a\\xd8\\x...\n85         \\xd8\\xa7\\xd9\\x84\\xd8\\xa3\\xd9\\x86\\xd8\\xaf\\xd9\\x...\n86         \\xd8\\xa7\\xd9\\x84\\xd9\\x88\\xd8\\xb3\\xd8\\xb7\\xd9\\x...\n87         \\xd8\\xa7\\xd9\\x84\\xd9\\x88\\xd8\\xb3\\xd8\\xb7\\xd9\\x...\n88         \\xd8\\xa7\\xd9\\x84\\xd9\\x88\\xd8\\xb3\\xd8\\xb7\\xd9\\x...\n89         \\xd8\\xa7\\xd9\\x84\\xd8\\xa3\\xd9\\x86\\xd8\\xaf\\xd9\\x...\n90         \\xd8\\xa7\\xd9\\x84\\xd8\\xb1\\xd9\\x88\\xd8\\xb6\\xd9\\x...\n91         \\xd8\\xa7\\xd9\\x84\\xd9\\x88\\xd8\\xb3\\xd8\\xb7\\xd9\\x...\n92         \\xd8\\xa7\\xd9\\x84\\xd8\\xb4\\xd8\\xb1\\xd9\\x8a\\xd8\\x...\n93         \\xd9\\x85\\xd9\\x86\\xd8\\xb7\\xd9\\x82\\xd8\\xa9 \\xd8\\...\n94         \\xd9\\x85\\xd9\\x86\\xd8\\xb7\\xd9\\x82\\xd8\\xa9 \\xd8\\...\n95         \\xd9\\x85\\xd9\\x86\\xd8\\xb7\\xd9\\x82\\xd8\\xa9 \\xd8\\...\n96         \\xd8\\xa7\\xd9\\x84\\xd8\\xb1\\xd9\\x8a, \\xd8\\xaf\\xd9...\n97         \\xd9\\x85\\xd8\\xaf\\xd9\\x8a\\xd9\\x86\\xd8\\xa9 \\xd8\\...\n98         \\xd8\\xa7\\xd9\\x84\\xd8\\xa3\\xd9\\x86\\xd8\\xaf\\xd9\\x...\n99         \\xd8\\xa7\\xd9\\x84\\xd8\\xb1\\xd9\\x8a, \\xd8\\xaf\\xd9...\n100        \\xd8\\xa7\\xd9\\x84\\xd8\\xad\\xd8\\xb2\\xd8\\xa7\\xd9\\x...\n101        \\xd8\\xa7\\xd9\\x84\\xd8\\xa3\\xd9\\x86\\xd8\\xaf\\xd9\\x...\n102        \\xd8\\xa7\\xd9\\x84\\xd8\\xa3\\xd9\\x86\\xd8\\xaf\\xd9\\x...\n103        \\xd8\\xa7\\xd9\\x84\\xd8\\xa3\\xd9\\x86\\xd8\\xaf\\xd9\\x...\n104        \\xd8\\xa7\\xd9\\x84\\xd8\\xb1\\xd9\\x8a, \\xd8\\xaf\\xd9...\n                                 ...                        \n2725506                                Coast Strip B, Kuwait\n2725507                                     Al Sharq, Kuwait\n2725508    Sabah Al Ahmad Marine City - Loloat Al Khairan...\n2725509                               Sabah Al Salem, Kuwait\n2725510                               Sabah Al Salem, Kuwait\n2725511                               Sabah Al Salem, Kuwait\n2725512                               Sabah Al Salem, Kuwait\n2725513                               Sabah Al Salem, Kuwait\n2725514                               Sabah Al Salem, Kuwait\n2725515                                  Al Jabriyah, Kuwait\n2725516                                 Bneid Al Qar, Kuwait\n2725517                                  Al Jabriyah, Kuwait\n2725518                                     Al Jahra, Kuwait\n2725519                                      Hawalli, Kuwait\n2725520    Sabah Al Ahmad Marine City - Loloat Al Khairan...\n2725521                                     Al Qibla, Kuwait\n2725522                                     Al Jahra, Kuwait\n2725523                                     Al Jahra, Kuwait\n2725524                                     Al Qibla, Kuwait\n2725525                                  Al Jabriyah, Kuwait\n2725526                                     Al Qibla, Kuwait\n2725527                          Mubarak Al Abdullah, Kuwait\n2725528                          Mubarak Al Abdullah, Kuwait\n2725529                          Mubarak Al Abdullah, Kuwait\n2725530                                     Al Qibla, Kuwait\n2725531                                  Al Jabriyah, Kuwait\n2725532                                  Al Jabriyah, Kuwait\n2725533                                     Al Sharq, Kuwait\n2725534                                  Al Jabriyah, Kuwait\n2725535                                  Al Jabriyah, Kuwait\n2725536                     Al Sulaibiya Residential, Kuwait\n2725537                                  Al Mahboula, Kuwait\n2725538                                       Al Rai, Kuwait\n2725539                                 الجهراء, دولة الكويت\n2725540                                    الري, دولة الكويت\n2725541                                      Qortuba, Kuwait\n2725542                                Coast Strip B, Kuwait\n2725543                                 Al Nuwaiseeb, Kuwait\n2725544                      Ardiya Small Industrial, Kuwait\n2725545                       Al Shuwaikh Industrial, Kuwait\n2725546                      Ardiya Small Industrial, Kuwait\n2725547                      Ardiya Small Industrial, Kuwait\n2725548                       Al Shuwaikh Industrial, Kuwait\n2725549                                 Airport Area, Kuwait\n2725550                                     Al Dasma, Kuwait\n2725551                   Al Ardhiya Government Uses, Kuwait\n2725552                                 Bneid Al Qar, Kuwait\n2725553                   Al Ardhiya Government Uses, Kuwait\n2725554                   Al Ardhiya Government Uses, Kuwait\n2725555                          Mubarak Al Abdullah, Kuwait\n2725556                                 Bneid Al Qar, Kuwait\n2725557                   Al Ardhiya Government Uses, Kuwait\n2725558                   Al Ardhiya Government Uses, Kuwait\n2725559                                     Al Riqai, Kuwait\n2725560                                The Sea Front, Kuwait\n2725561                                  Al Shuwaikh, Kuwait\n2725562                                 Bneid Al Qar, Kuwait\n2725563                   Al Ardhiya Government Uses, Kuwait\n2725564                   Al Ardhiya Government Uses, Kuwait\n2725565                   Al Ardhiya Government Uses, Kuwait\n2725566                                     Al Sharq, Kuwait\n2725567                   Al Ardhiya Government Uses, Kuwait\n2725568                                Coast Strip A, Kuwait\n2725569                                       Al Rai, Kuwait\n2725570                   Al Ardhiya Government Uses, Kuwait\n2725571                   Al Ardhiya Government Uses, Kuwait\n2725572                                  Al Salmiyah, Kuwait\n2725573                               Al Mansouriyah, Kuwait\n2725574                   Al Ardhiya Government Uses, Kuwait\n2725575                   Al Ardhiya Government Uses, Kuwait\n2725576                                     Al Sharq, Kuwait\n2725577                   Al Ardhiya Government Uses, Kuwait\n2725578                   Al Ardhiya Government Uses, Kuwait\n2725579                               The Green Belt, Kuwait\n2725580                                       Al Rai, Kuwait\n2725581                                     Al Qibla, Kuwait\n2725582                               Al Mansouriyah, Kuwait\n2725583                               The Green Belt, Kuwait\n2725584                               Al Mansouriyah, Kuwait\n2725585                                    Al Daiyah, Kuwait\n2725586                               Al Mansouriyah, Kuwait\n2725587                   Al Ardhiya Government Uses, Kuwait\n2725588                   Al Ardhiya Government Uses, Kuwait\n2725589                               Al Mansouriyah, Kuwait\n2725590                                    Al Daiyah, Kuwait\n2725591                                       Al Rai, Kuwait\n2725592                                The Sea Front, Kuwait\n2725593                                     Al Dasma, Kuwait\n2725594                       Al Shuwaikh Industrial, Kuwait\n2725595                      Ardiya Small Industrial, Kuwait\n2725596                      Al Ardhiya Storage Zone, Kuwait\n2725597                                     Al Wusta, Kuwait\n2725598                                       Subhan, Kuwait\n2725599                      Al Ardhiya Storage Zone, Kuwait\n2725600                               The Green Belt, Kuwait\n2725601                               Al Mansouriyah, Kuwait\n2725602                   Al Ardhiya Government Uses, Kuwait\n2725603                   Al Ardhiya Government Uses, Kuwait\n2725604                                   Al Shamiya, Kuwait\n2725605                               Al Mansouriyah, Kuwait\n2725606                                       Al Rai, Kuwait\n2725607                                        Zahra, Kuwait\n2725608                                   Al Shamiya, Kuwait\n2725609                                   Al Shamiya, Kuwait\n2725610                                 Al Farwaniya, Kuwait\nName: place_name, Length: 2725611, dtype: object"
          },
          "metadata": {}
        }
      ]
    },
    {
      "execution_count": 11,
      "cell_type": "code",
      "metadata": {},
      "source": [
        "only_xs \u003d place_names[place_names.str.]"
      ],
      "outputs": []
    },
    {
      "execution_count": 0,
      "cell_type": "code",
      "metadata": {},
      "source": [
        "only_xs \u003d place_names.where"
      ],
      "outputs": []
    },
    {
      "execution_count": 10,
      "cell_type": "code",
      "metadata": {},
      "source": [
        "only_xs"
      ],
      "outputs": [
        {
          "output_type": "execute_result",
          "execution_count": 10,
          "data": {
            "text/plain": "False"
          },
          "metadata": {}
        }
      ]
    },
    {
      "execution_count": 0,
      "cell_type": "code",
      "metadata": {},
      "source": [
        "# Compute recipe outputs from inputs\n# TODO: Replace this part by your actual code that computes the output, as a Pandas dataframe\n# NB: DSS also supports other kinds of APIs for reading and writing data. Please see doc.\n\nTwi_Data_place_name_cleaned_df \u003d Twi_Data_no_links_df # For this sample code, simply copy input to output\n\n\n# Write recipe outputs\nTwi_Data_place_name_cleaned \u003d dataiku.Dataset(\"Twi_Data_place_name_cleaned\")\nTwi_Data_place_name_cleaned.write_with_schema(Twi_Data_place_name_cleaned_df)"
      ],
      "outputs": []
    }
  ]
}