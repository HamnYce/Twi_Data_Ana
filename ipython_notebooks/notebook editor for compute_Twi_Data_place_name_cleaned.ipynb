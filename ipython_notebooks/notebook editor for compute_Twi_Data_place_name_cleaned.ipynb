{
  "metadata": {
    "kernelspec": {
      "name": "python3",
      "display_name": "Python 3",
      "language": "python"
    },
    "associatedRecipe": "compute_Twi_Data_place_name_cleaned",
    "creator": "admin",
    "createdOn": 1667504883928,
    "tags": [
      "recipe-editor"
    ],
    "customFields": {},
    "hide_input": false,
    "language_info": {
      "name": "python",
      "version": "3.7.13",
      "mimetype": "text/x-python",
      "codemirror_mode": {
        "name": "ipython",
        "version": 3
      },
      "pygments_lexer": "ipython3",
      "nbconvert_exporter": "python",
      "file_extension": ".py"
    },
    "modifiedBy": "admin"
  },
  "nbformat": 4,
  "nbformat_minor": 1,
  "cells": [
    {
      "execution_count": 1,
      "cell_type": "code",
      "metadata": {},
      "source": [
        "# -*- coding: utf-8 -*-\nimport dataiku\nimport pandas as pd, numpy as np\nfrom dataiku import pandasutils as pdu\n\n# Read recipe inputs\nTwi_Data_no_links \u003d dataiku.Dataset(\"Twi_Data_no_links\")\nTwi_Data_no_links_df \u003d Twi_Data_no_links.get_dataframe()"
      ],
      "outputs": []
    },
    {
      "execution_count": 3,
      "cell_type": "code",
      "metadata": {},
      "source": [
        "place_names \u003d Twi_Data_no_links_df[\u0027place_name\u0027]"
      ],
      "outputs": []
    },
    {
      "execution_count": 14,
      "cell_type": "code",
      "metadata": {},
      "source": [
        "place_names \u003d place_names.str.strip(\"\u0027\").str.strip(\u0027\"\u0027)"
      ],
      "outputs": []
    },
    {
      "execution_count": 15,
      "cell_type": "code",
      "metadata": {},
      "source": [
        "only_xs \u003d place_names[place_names.str.find(\u0027\\\\x\u0027)]"
      ],
      "outputs": [
        {
          "output_type": "stream",
          "text": "/Users/hamad/Library/DataScienceStudio/kits/dataiku-dss-11.1.0-osx/python37.packages/pandas/core/series.py:842: FutureWarning: \nPassing list-likes to .loc or [] with any missing label will raise\nKeyError in the future, you can use .reindex() as an alternative.\n\nSee the documentation here:\nhttps://pandas.pydata.org/pandas-docs/stable/indexing.html#deprecate-loc-reindex-listlike\n  return self.loc[key]\n",
          "name": "stderr"
        }
      ]
    },
    {
      "execution_count": 27,
      "cell_type": "code",
      "metadata": {},
      "source": [
        "xs \u003d only_xs.reset_index()"
      ],
      "outputs": []
    },
    {
      "execution_count": 29,
      "cell_type": "code",
      "metadata": {},
      "source": [
        "xs \u003d xs[\u0027place_name\u0027]"
      ],
      "outputs": []
    },
    {
      "execution_count": 31,
      "cell_type": "code",
      "metadata": {},
      "source": [
        "x \u003d xs.iloc[0]"
      ],
      "outputs": []
    },
    {
      "execution_count": 43,
      "cell_type": "code",
      "metadata": {},
      "source": [
        "import codecs\ns \u003d x.replace(\u0027\\\\\u0027,\u0027 0\u0027)"
      ],
      "outputs": []
    },
    {
      "execution_count": 59,
      "cell_type": "code",
      "metadata": {},
      "source": [
        "\u0027\\xd8\\xa7\u0027.encode(\u0027utf-8\u0027)"
      ],
      "outputs": [
        {
          "output_type": "execute_result",
          "execution_count": 59,
          "data": {
            "text/plain": "b\u0027\\xc3\\x98\\xc2\\xa7\u0027"
          },
          "metadata": {}
        }
      ]
    },
    {
      "execution_count": 0,
      "cell_type": "code",
      "metadata": {},
      "source": [
        "# Compute recipe outputs from inputs\n# TODO: Replace this part by your actual code that computes the output, as a Pandas dataframe\n# NB: DSS also supports other kinds of APIs for reading and writing data. Please see doc.\n\nTwi_Data_place_name_cleaned_df \u003d Twi_Data_no_links_df # For this sample code, simply copy input to output\n\n\n# Write recipe outputs\nTwi_Data_place_name_cleaned \u003d dataiku.Dataset(\"Twi_Data_place_name_cleaned\")\nTwi_Data_place_name_cleaned.write_with_schema(Twi_Data_place_name_cleaned_df)"
      ],
      "outputs": []
    }
  ]
}