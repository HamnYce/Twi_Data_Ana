{
  "nbformat": 4,
  "nbformat_minor": 0,
  "metadata": {
    "kernelspec": {
      "display_name": "Python 3",
      "language": "python",
      "name": "python3"
    },
    "associatedRecipe": "compute_Twi_Data_Place_Name_Extract",
    "creator": "admin",
    "createdOn": 1666609880395,
    "tags": [
      "recipe-editor"
    ],
    "customFields": {}
  },
  "cells": [
    {
      "cell_type": "code",
      "metadata": {},
      "outputs": [],
      "execution_count": 0,
      "source": [
        "# -*- coding: utf-8 -*-\n",
        "import dataiku\n",
        "import pandas as pd, numpy as np\n",
        "from dataiku import pandasutils as pdu\n",
        "\n",
        "# Read recipe inputs\n",
        "Twi_Data_prepared \u003d dataiku.Dataset(\"Twi_Data_prepared\")\n",
        "Twi_Data_prepared_df \u003d Twi_Data_prepared.get_dataframe()\n",
        "\n",
        "\n",
        "# Compute recipe outputs from inputs\n",
        "# TODO: Replace this part by your actual code that computes the output, as a Pandas dataframe\n",
        "# NB: DSS also supports other kinds of APIs for reading and writing data. Please see doc.\n",
        "\n",
        "Twi_Data_Place_Name_Extract_df \u003d Twi_Data_prepared_df # For this sample code, simply copy input to output\n",
        "\n",
        "\n",
        "# Write recipe outputs\n",
        "Twi_Data_Place_Name_Extract \u003d dataiku.Dataset(\"Twi_Data_Place_Name_Extract\")\n",
        "Twi_Data_Place_Name_Extract.write_with_schema(Twi_Data_Place_Name_Extract_df)"
      ]
    }
  ]
}