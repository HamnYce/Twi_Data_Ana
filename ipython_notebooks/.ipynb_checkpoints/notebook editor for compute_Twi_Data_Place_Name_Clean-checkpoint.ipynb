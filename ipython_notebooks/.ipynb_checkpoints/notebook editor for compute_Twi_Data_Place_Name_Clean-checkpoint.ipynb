{
  "nbformat": 4,
  "nbformat_minor": 0,
  "metadata": {
    "kernelspec": {
      "display_name": "Python 3",
      "language": "python",
      "name": "python3"
    },
    "associatedRecipe": "compute_Twi_Data_Place_Name_Clean",
    "dkuGit": {
      "lastInteraction": 0
    },
    "creationTag": {
      "versionNumber": 0,
      "lastModifiedBy": {
        "login": "admin"
      },
      "lastModifiedOn": 1666729506958
    },
    "creator": "admin",
    "createdOn": 1666729506958,
    "tags": [
      "recipe-editor"
    ],
    "customFields": {}
  },
  "cells": [
    {
      "cell_type": "code",
      "metadata": {},
      "outputs": [],
      "execution_count": 0,
      "source": [
        "# -*- coding: utf-8 -*-\n",
        "import dataiku\n",
        "import pandas as pd, numpy as np\n",
        "from dataiku import pandasutils as pdu\n",
        "\n",
        "# Read recipe inputs\n",
        "Twi_Data_Place_Name_From_Text \u003d dataiku.Dataset(\"Twi_Data_Place_Name_From_Text\")\n",
        "Twi_Data_Place_Name_From_Text_df \u003d Twi_Data_Place_Name_From_Text.get_dataframe()"
      ]
    },
    {
      "cell_type": "code",
      "metadata": {},
      "outputs": [],
      "execution_count": 0,
      "source": [
        "place_names \u003d Twi_Data_Place_Name_From_Text_df[\u0027place_name\u0027]"
      ]
    },
    {
      "cell_type": "code",
      "metadata": {},
      "outputs": [],
      "execution_count": 0,
      "source": [
        "stripped_place_names \u003d []\n",
        "for place in place_names:\n",
        "    stripped_place_names.append(place..strip(\"\u0027\").strip(\u0027\"\u0027))\n",
        "stripped_place_names"
      ]
    },
    {
      "cell_type": "code",
      "metadata": {},
      "outputs": [],
      "execution_count": 0,
      "source": [
        "Twi_Data_Place_Name_Clean_df \u003d Twi_Data_Place_Name_From_Text_df # For this sample code, simply copy input to output\n",
        "\n",
        "\n",
        "# Write recipe outputs\n",
        "Twi_Data_Place_Name_Clean \u003d dataiku.Dataset(\"Twi_Data_Place_Name_Clean\")\n",
        "Twi_Data_Place_Name_Clean.write_with_schema(Twi_Data_Place_Name_Clean_df)"
      ]
    }
  ]
}