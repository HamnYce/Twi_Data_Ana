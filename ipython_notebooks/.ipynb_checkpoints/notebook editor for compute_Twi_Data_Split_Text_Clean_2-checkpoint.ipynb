{
  "metadata": {
    "kernelspec": {
      "name": "python3",
      "display_name": "Python 3",
      "language": "python"
    },
    "associatedRecipe": "compute_Twi_Data_Split_Text_Clean",
    "creator": "admin",
    "createdOn": 1666720974966,
    "tags": [
      "recipe-editor"
    ],
    "customFields": {},
    "hide_input": false,
    "language_info": {
      "name": "python",
      "version": "3.7.13",
      "mimetype": "text/x-python",
      "codemirror_mode": {
        "name": "ipython",
        "version": 3
      },
      "pygments_lexer": "ipython3",
      "nbconvert_exporter": "python",
      "file_extension": ".py"
    },
    "modifiedBy": "admin"
  },
  "nbformat": 4,
  "nbformat_minor": 1,
  "cells": [
    {
      "execution_count": 1,
      "cell_type": "code",
      "metadata": {},
      "source": [
        "# -*- coding: utf-8 -*-\nimport dataiku\nimport pandas as pd, numpy as np\nfrom dataiku import pandasutils as pdu\n\n# Read recipe inputs\nTwi_Data_cols_parsed \u003d dataiku.Dataset(\"Twi_Data_cols_parsed\")\nTwi_Data_cols_parsed_df \u003d Twi_Data_cols_parsed.get_dataframe()\n"
      ],
      "outputs": []
    },
    {
      "execution_count": 0,
      "cell_type": "code",
      "metadata": {},
      "source": [
        "Twi_Data_cols_parsed_df[\u0027text\u0027] \u003d tweet_text_clean\nTwi_Data_cols_parsed_df[\u0027text_first_link\u0027] \u003d first_link_clean\nTwi_Data_cols_parsed_df[\u0027text_second_link\u0027] \u003d second_link_clean\nTwi_Data_cols_parsed_df[\u0027text_third_link\u0027] \u003d third_link_clean"
      ],
      "outputs": []
    },
    {
      "execution_count": 2,
      "cell_type": "code",
      "metadata": {},
      "source": [
        "tweet_text_clean \u003d []\nfor text in tweet_text:\n    clean_text \u003d text\n    if text[0] \u003d\u003d \"\u0027\" or text[0] \u003d\u003d \u0027\"\u0027:\n        clean_text \u003d text[1:]\n    if text[-1] \u003d\u003d \"\u0027\" or text[-1] \u003d\u003d \u0027\"\u0027:\n        clean_text \u003d text[:-1]\n    tweet_text_clean.append(clean_text)\n"
      ],
      "outputs": [
        {
          "output_type": "error",
          "ename": "NameError",
          "evalue": "name \u0027tweet_text\u0027 is not defined",
          "traceback": [
            "\u001b[0;31m---------------------------------------------------------------------------\u001b[0m",
            "\u001b[0;31mNameError\u001b[0m                                 Traceback (most recent call last)",
            "\u001b[0;32m\u003cipython-input-2-7bdf53c280a2\u003e\u001b[0m in \u001b[0;36m\u003cmodule\u003e\u001b[0;34m()\u001b[0m\n\u001b[1;32m      1\u001b[0m \u001b[0mtweet_text_clean\u001b[0m \u001b[0;34m\u003d\u001b[0m \u001b[0;34m[\u001b[0m\u001b[0;34m]\u001b[0m\u001b[0;34m\u001b[0m\u001b[0;34m\u001b[0m\u001b[0m\n\u001b[0;32m----\u003e 2\u001b[0;31m \u001b[0;32mfor\u001b[0m \u001b[0mtext\u001b[0m \u001b[0;32min\u001b[0m \u001b[0mtweet_text\u001b[0m\u001b[0;34m:\u001b[0m\u001b[0;34m\u001b[0m\u001b[0;34m\u001b[0m\u001b[0m\n\u001b[0m\u001b[1;32m      3\u001b[0m     \u001b[0mclean_text\u001b[0m \u001b[0;34m\u003d\u001b[0m \u001b[0mtext\u001b[0m\u001b[0;34m\u001b[0m\u001b[0;34m\u001b[0m\u001b[0m\n\u001b[1;32m      4\u001b[0m     \u001b[0;32mif\u001b[0m \u001b[0mtext\u001b[0m\u001b[0;34m[\u001b[0m\u001b[0;36m0\u001b[0m\u001b[0;34m]\u001b[0m \u001b[0;34m\u003d\u003d\u001b[0m \u001b[0;34m\"\u0027\"\u001b[0m \u001b[0;32mor\u001b[0m \u001b[0mtext\u001b[0m\u001b[0;34m[\u001b[0m\u001b[0;36m0\u001b[0m\u001b[0;34m]\u001b[0m \u001b[0;34m\u003d\u003d\u001b[0m \u001b[0;34m\u0027\"\u0027\u001b[0m\u001b[0;34m:\u001b[0m\u001b[0;34m\u001b[0m\u001b[0;34m\u001b[0m\u001b[0m\n\u001b[1;32m      5\u001b[0m         \u001b[0mclean_text\u001b[0m \u001b[0;34m\u003d\u001b[0m \u001b[0mtext\u001b[0m\u001b[0;34m[\u001b[0m\u001b[0;36m1\u001b[0m\u001b[0;34m:\u001b[0m\u001b[0;34m]\u001b[0m\u001b[0;34m\u001b[0m\u001b[0;34m\u001b[0m\u001b[0m\n",
            "\u001b[0;31mNameError\u001b[0m: name \u0027tweet_text\u0027 is not defined"
          ]
        }
      ]
    },
    {
      "execution_count": 0,
      "cell_type": "code",
      "metadata": {},
      "source": [
        "first_link_clean \u003d []\nfor text in first_link:\n    clean_text \u003d text\n    if type(clean_text) \u003d\u003d str:\n        if text[0] \u003d\u003d \"\u0027\" or text[0] \u003d\u003d \u0027\"\u0027:\n            clean_text \u003d text[1:]\n        if text[-1] \u003d\u003d \"\u0027\" or text[-1] \u003d\u003d \u0027\"\u0027:\n            clean_text \u003d text[:-1]\n    first_link_clean.append(clean_text)\n"
      ],
      "outputs": []
    },
    {
      "execution_count": 0,
      "cell_type": "code",
      "metadata": {},
      "source": [
        "second_link_clean \u003d []\nfor text in second_link:\n    clean_text \u003d text\n    if type(clean_text) \u003d\u003d str:\n        if text[0] \u003d\u003d \"\u0027\" or text[0] \u003d\u003d \u0027\"\u0027:\n            clean_text \u003d text[1:]\n        if text[-1] \u003d\u003d \"\u0027\" or text[-1] \u003d\u003d \u0027\"\u0027:\n            clean_text \u003d text[:-1]\n    second_link_clean.append(clean_text)"
      ],
      "outputs": []
    },
    {
      "execution_count": 0,
      "cell_type": "code",
      "metadata": {},
      "source": [
        "third_link_clean \u003d []\nfor text in second_link:\n    clean_text \u003d text\n    if type(clean_text) \u003d\u003d str:\n        if text[0] \u003d\u003d \"\u0027\" or text[0] \u003d\u003d \u0027\"\u0027:\n            clean_text \u003d text[1:]\n        if text[-1] \u003d\u003d \"\u0027\" or text[-1] \u003d\u003d \u0027\"\u0027:\n            clean_text \u003d text[:-1]\n    third_link_clean.append(clean_text)"
      ],
      "outputs": []
    },
    {
      "execution_count": 0,
      "cell_type": "code",
      "metadata": {},
      "source": [
        ""
      ],
      "outputs": []
    },
    {
      "execution_count": 0,
      "cell_type": "code",
      "metadata": {},
      "source": [
        "Twi_Data_Split_Text_Clean_df \u003d Twi_Data_cols_parsed_df # For this sample code, simply copy input to output\n\n\n# Write recipe outputs\nTwi_Data_Split_Text_Clean \u003d dataiku.Dataset(\"Twi_Data_Split_Text_Clean\")\nTwi_Data_Split_Text_Clean.write_with_schema(Twi_Data_Split_Text_Clean_df)"
      ],
      "outputs": []
    }
  ]
}