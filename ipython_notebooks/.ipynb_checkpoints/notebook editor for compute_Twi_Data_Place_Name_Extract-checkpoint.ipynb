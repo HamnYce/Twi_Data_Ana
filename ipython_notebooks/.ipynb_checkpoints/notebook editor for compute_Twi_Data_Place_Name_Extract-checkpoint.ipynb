{
  "metadata": {
    "kernelspec": {
      "name": "python3",
      "display_name": "Python 3",
      "language": "python"
    },
    "associatedRecipe": "compute_Twi_Data_Place_Name_Extract",
    "creator": "admin",
    "createdOn": 1666609880395,
    "tags": [
      "recipe-editor"
    ],
    "customFields": {},
    "hide_input": false,
    "language_info": {
      "name": "python",
      "version": "3.7.13",
      "mimetype": "text/x-python",
      "codemirror_mode": {
        "name": "ipython",
        "version": 3
      },
      "pygments_lexer": "ipython3",
      "nbconvert_exporter": "python",
      "file_extension": ".py"
    },
    "modifiedBy": "admin"
  },
  "nbformat": 4,
  "nbformat_minor": 1,
  "cells": [
    {
      "execution_count": 1,
      "cell_type": "code",
      "metadata": {},
      "source": [
        "# -*- coding: utf-8 -*-\nimport dataiku\nimport pandas as pd, numpy as np\nfrom dataiku import pandasutils as pdu\n\n# Read recipe inputs\nTwi_Data_prepared \u003d dataiku.Dataset(\"Twi_Data_prepared\")\nTwi_Data_prepared_df \u003d Twi_Data_prepared.get_dataframe()\n\n\n"
      ],
      "outputs": []
    },
    {
      "execution_count": 0,
      "cell_type": "code",
      "metadata": {},
      "source": [
        "# make new column that says place_name\nplace_name \u003d []\n# TODO: loop through text and extract 1 or 2 words after for the place location"
      ],
      "outputs": []
    },
    {
      "execution_count": 0,
      "cell_type": "code",
      "metadata": {},
      "source": [
        "Twi_Data_Place_Name_Extract_df \u003d Twi_Data_prepared_df # For this sample code, simply copy input to output\n\n\n# Write recipe outputs\nTwi_Data_Place_Name_Extract \u003d dataiku.Dataset(\"Twi_Data_Place_Name_Extract\")\nTwi_Data_Place_Name_Extract.write_with_schema(Twi_Data_Place_Name_Extract_df)"
      ],
      "outputs": []
    }
  ]
}