{
  "nbformat": 4,
  "nbformat_minor": 0,
  "metadata": {
    "kernelspec": {
      "display_name": "Python 3",
      "language": "python",
      "name": "python3"
    },
    "associatedRecipe": "compute_Twi_Data_Place_Name_Extract",
    "dkuGit": {
      "lastInteraction": 0
    },
    "creationTag": {
      "versionNumber": 0,
      "lastModifiedBy": {
        "login": "admin"
      },
      "lastModifiedOn": 1666609880395
    },
    "creator": "admin",
    "createdOn": 1666609880395,
    "tags": [
      "recipe-editor"
    ],
    "customFields": {}
  },
  "cells": [
    {
      "cell_type": "code",
      "metadata": {},
      "outputs": [],
      "execution_count": 0,
      "source": [
        "# -*- coding: utf-8 -*-\n",
        "import dataiku\n",
        "import pandas as pd, numpy as np\n",
        "from dataiku import pandasutils as pdu\n",
        "\n",
        "# Read recipe inputs\n",
        "Twi_Data_prepared \u003d dataiku.Dataset(\"Twi_Data_prepared\")\n",
        "Twi_Data_prepared_df \u003d Twi_Data_prepared.get_dataframe()"
      ]
    },
    {
      "cell_type": "code",
      "metadata": {},
      "outputs": [],
      "execution_count": 0,
      "source": [
        "# make new column that says place_name\n",
        "place_names \u003d []\n",
        "# TODO: loop through text and extract 1 or 2 words after \"I\u0027m at\"\n",
        "for text in Twi_Data_prepared_df[\u0027tweet_text_clean\u0027]:\n",
        "    split_text \u003d text.lower().split()\n",
        "    if split_text[0] \u003d\u003d \"i\u0027m\" and split_text[1] \u003d\u003d \u0027at\u0027:\n",
        "        index \u003d 4\n",
        "        if \u0027in\u0027 in split_text:\n",
        "            index \u003d split_text.index(\u0027in\u0027)\n",
        "        place_names.append(\u0027 \u0027.join(split_text[2:index]))\n",
        "    else:\n",
        "        place_names.append(text)\n",
        "place_names"
      ]
    },
    {
      "cell_type": "code",
      "metadata": {},
      "outputs": [],
      "execution_count": 0,
      "source": [
        "Twi_Data_prepared_df[\u0027place_name\u0027] \u003d place_names"
      ]
    },
    {
      "cell_type": "code",
      "metadata": {},
      "outputs": [],
      "execution_count": 0,
      "source": [
        "Twi_Data_Place_Name_Extract_df \u003d Twi_Data_prepared_df # For this sample code, simply copy input to output\n",
        "\n",
        "\n",
        "# Write recipe outputs\n",
        "Twi_Data_Place_Name_Extract \u003d dataiku.Dataset(\"Twi_Data_Place_Name_Extract\")\n",
        "Twi_Data_Place_Name_Extract.write_with_schema(Twi_Data_Place_Name_Extract_df)"
      ]
    }
  ]
}