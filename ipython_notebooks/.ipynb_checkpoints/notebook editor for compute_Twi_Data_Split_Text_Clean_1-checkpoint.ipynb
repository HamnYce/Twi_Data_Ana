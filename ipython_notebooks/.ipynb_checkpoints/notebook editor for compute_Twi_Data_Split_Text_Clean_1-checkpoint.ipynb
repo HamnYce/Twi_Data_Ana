{
  "nbformat": 4,
  "nbformat_minor": 0,
  "metadata": {
    "kernelspec": {
      "display_name": "Python 3",
      "language": "python",
      "name": "python3"
    },
    "associatedRecipe": "compute_Twi_Data_Split_Text_Clean_1",
    "creator": "admin",
    "createdOn": 1666720917823,
    "tags": [
      "recipe-editor"
    ],
    "customFields": {}
  },
  "cells": [
    {
      "cell_type": "code",
      "metadata": {},
      "outputs": [],
      "execution_count": 0,
      "source": [
        "# -*- coding: utf-8 -*-\n",
        "import dataiku\n",
        "import pandas as pd, numpy as np\n",
        "from dataiku import pandasutils as pdu\n",
        "\n",
        "# Read recipe inputs\n",
        "Twi_Data_Cleaned_Cols_Parsed \u003d dataiku.Dataset(\"Twi_Data_Cleaned_Cols_Parsed\")\n",
        "Twi_Data_Cleaned_Cols_Parsed_df \u003d Twi_Data_Cleaned_Cols_Parsed.get_dataframe()"
      ]
    },
    {
      "cell_type": "code",
      "metadata": {},
      "outputs": [],
      "execution_count": 0,
      "source": [
        "tweet_text \u003d Twi_Data_Cleaned_Cols_Parsed_df[\u0027text\u0027]\n",
        "first_link \u003d Twi_Data_Cleaned_Cols_Parsed_df[\u0027text_first_link\u0027]\n",
        "second_link \u003d Twi_Data_Cleaned_Cols_Parsed_df[\u0027text_second_link\u0027]"
      ]
    },
    {
      "cell_type": "code",
      "metadata": {},
      "outputs": [],
      "execution_count": 0,
      "source": [
        "tweet_text_clean \u003d []\n",
        "for text in tweet_text:\n",
        "    clean_text \u003d text\n",
        "    if text[0] \u003d\u003d \"\u0027\" or text[0] \u003d\u003d \u0027\"\u0027:\n",
        "        clean_text \u003d text[1:]\n",
        "    if text[-1] \u003d\u003d \"\u0027\" or text[-1] \u003d\u003d \u0027\"\u0027:\n",
        "        clean_text \u003d text[:-1]\n",
        "    tweet_text_clean.append(clean_text)"
      ]
    },
    {
      "cell_type": "code",
      "metadata": {},
      "outputs": [],
      "execution_count": 0,
      "source": [
        "first_link_clean \u003d []\n",
        "for text in first_link:\n",
        "    clean_text \u003d text\n",
        "    if type(clean_text) \u003d\u003d str:\n",
        "        if text[0] \u003d\u003d \"\u0027\" or text[0] \u003d\u003d \u0027\"\u0027:\n",
        "            clean_text \u003d text[1:]\n",
        "        if text[-1] \u003d\u003d \"\u0027\" or text[-1] \u003d\u003d \u0027\"\u0027:\n",
        "            clean_text \u003d text[:-1]\n",
        "    first_link_clean.append(clean_text)"
      ]
    },
    {
      "cell_type": "code",
      "metadata": {},
      "outputs": [],
      "execution_count": 0,
      "source": [
        "second_link_clean \u003d []\n",
        "for text in second_link:\n",
        "    clean_text \u003d text\n",
        "    if type(clean_text) \u003d\u003d str:\n",
        "        if text[0] \u003d\u003d \"\u0027\" or text[0] \u003d\u003d \u0027\"\u0027:\n",
        "            clean_text \u003d text[1:]\n",
        "        if text[-1] \u003d\u003d \"\u0027\" or text[-1] \u003d\u003d \u0027\"\u0027:\n",
        "            clean_text \u003d text[:-1]\n",
        "    second_link_clean.append(clean_text)"
      ]
    },
    {
      "cell_type": "code",
      "metadata": {},
      "outputs": [],
      "execution_count": 0,
      "source": [
        "Twi_Data_Cleaned_Cols_Parsed_df[\u0027text\u0027] \u003d tweet_text_clean\n",
        "Twi_Data_Cleaned_Cols_Parsed_df[\u0027text_first_link\u0027] \u003d first_link_clean\n",
        "Twi_Data_Cleaned_Cols_Parsed_df[\u0027text_second_link\u0027] \u003d second_link_clean"
      ]
    },
    {
      "cell_type": "code",
      "metadata": {},
      "outputs": [],
      "execution_count": 0,
      "source": [
        "Twi_Data_Split_Text_Clean_df \u003d Twi_Data_Cleaned_Cols_Parsed_df # For this sample code, simply copy input to output\n",
        "\n",
        "\n",
        "# Write recipe outputs\n",
        "Twi_Data_Split_Text_Clean \u003d dataiku.Dataset(\"Twi_Data_Split_Text_Clean\")\n",
        "Twi_Data_Split_Text_Clean.write_with_schema(Twi_Data_Split_Text_Clean_df)"
      ]
    }
  ]
}