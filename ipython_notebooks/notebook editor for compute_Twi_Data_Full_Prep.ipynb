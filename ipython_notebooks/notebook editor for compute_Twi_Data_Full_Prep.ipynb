{
  "metadata": {
    "kernelspec": {
      "name": "python3",
      "display_name": "Python 3",
      "language": "python"
    },
    "associatedRecipe": "compute_Twi_Data_Full_Prep",
    "creator": "admin",
    "createdOn": 1666359931421,
    "tags": [
      "recipe-editor"
    ],
    "customFields": {},
    "hide_input": false,
    "language_info": {
      "name": "python",
      "version": "3.7.13",
      "mimetype": "text/x-python",
      "codemirror_mode": {
        "name": "ipython",
        "version": 3
      },
      "pygments_lexer": "ipython3",
      "nbconvert_exporter": "python",
      "file_extension": ".py"
    },
    "modifiedBy": "admin"
  },
  "nbformat": 4,
  "nbformat_minor": 1,
  "cells": [
    {
      "execution_count": 185,
      "cell_type": "code",
      "metadata": {},
      "source": [
        "# -*- coding: utf-8 -*-\nimport dataiku\nimport pandas as pd, numpy as np\nfrom dataiku import pandasutils as pdu\n\n# Read recipe inputs\nTwi_Data_prepared_with_visual_recipe \u003d dataiku.Dataset(\"Twi_Data_prepared_with_visual_recipe\")\nTwi_Data_prepared_with_visual_recipe_df \u003d Twi_Data_prepared_with_visual_recipe.get_dataframe()\n\n\n# Compute recipe outputs from inputs\n# TODO: Replace this part by your actual code that computes the output, as a Pandas dataframe\n# NB: DSS also supports other kinds of APIs for reading and writing data. Please see doc.\n\n\n"
      ],
      "outputs": []
    },
    {
      "execution_count": 186,
      "cell_type": "code",
      "metadata": {},
      "source": [
        "tweet_text \u003d Twi_Data_prepared_with_visual_recipe_df[\u0027tweet_text\u0027]"
      ],
      "outputs": []
    },
    {
      "execution_count": 217,
      "cell_type": "code",
      "metadata": {
        "scrolled": true
      },
      "source": [
        "import codecs\nclean_tweet_text \u003d []\nfor text in tweet_text:\n    clean_text \u003d text[1:] if text.startswith(\u0027u\u0027) else text\n    clean_text \u003d clean_text.replace(\"\u0027\u0027\",\"\u0027\")\n    clean_text \u003d clean_text[1:-2] if clean_text.startswith(\"\u0027\") else clean_text\n    clean_text \u003d clean_text[:-1] if clean_text.endswith(\",\") else clean_text\n    clean_tweet_text.append(clean_text)\nfor t in clean_tweet_text:\n    print(t) if t.find(\u0027\\\\u\u0027) \u003e -1 else 1"
      ],
      "outputs": [
        {
          "output_type": "stream",
          "text": "I\u0027m at The Grove Restaurant \u0026 Caf\\xe9 in Kuwait City w/ @albahar82 @hebakhaledi45 @sixttysix_ https://t.co/rCY49y35Ka\nI\u0027m at Dose Caf\\xe9 in Kuwait City, Al Asimah Governate https://t.co/Vv6tkFvgvj\nI\u0027m at Dose Caf\\xe9 in Kuwait City, Al Asimah Governate w/ @xheessaa https://t.co/KsjO0gqcFc\nيارب امسك ايدي \\U0001f642 (@ 360\\xb0 @Mall360 in Kuwait City, Al Asimah) https://t.co/tYbBOKIUuA\nI\u0027m at \\xdcshk in Kuwait City, Al Kuwayt https://t.co/kNePU2SQ5S\nI\u0027m at Dose Caf\\xe9 in Kuwait City, Al Asimah Governate https://t.co/FOVj8JB9pa\nكارديو مع تجريح صيام خفيف (@ 360\\xb0 @Mall360 in Kuwait City, Al Asimah) https://t.co/mApTwN3qjs\nI\u0027m at 360\\xb0 @Mall360 in Kuwait City, Al Asimah https://t.co/sjGpUz1iWZ\nI\u0027m at 360\\xb0 @Mall360 in Kuwait City, Al Asimah https://t.co/cWLWM3CXhK\nI\u0027m at 300\\xb0F Smoke House in Kuwait City, Al Asimah Governate https://t.co/cfarT3hhu2 https://t.co/arn6WrVQ0I\nI\u0027m at 360\\xb0 @Mall360 in Kuwait City, Al Asimah https://t.co/dXFChe525r\nI\u0027m at 360\\xb0 @Mall360 in Kuwait City, Al Asimah https://t.co/xOVAldFUpY\nI\u0027m at \\xdcshk in Kuwait City, Al Kuwayt w/ @salrasheed__ @agamghr @y_alkandrii https://t.co/ExoFGgWEne\nI\u0027m at \\xdcshk in Kuwait City, Al Kuwayt w/ @_azizalkhaldi https://t.co/7a0VT1QGhK\nI\u0027m at 360\\xb0 @Mall360 in Kuwait City, Al Asimah https://t.co/PYGAFufnQR\nI\u0027m at Dose caf\\xe9 https://t.co/sBd9hEg0IV https://t.co/WeeNG1fV2s\nI\u0027m at 3 guys caf\\xe9 https://t.co/DL0lsAbsJc\nI\u0027m at 360\\xb0 @Mall360 in Kuwait City, Al Asimah w/ @arn206 @mubarakshehab https://t.co/toEAz5eOIy\nI\u0027m at \\xdcshk in Kuwait City, Al Kuwayt https://t.co/lmjE73PdHa\nI\u0027m at 360\\xb0 @Mall360 in Kuwait City, Al Asimah w/ @alighloum https://t.co/bIJdvcc7p7\nI\u0027m at 360\\xb0 @Mall360 in Kuwait City, Al Asimah w/ @alijamalq8 https://t.co/0o6shfnbZF\nI\u0027m at 360\\xb0 @Mall360 in Kuwait City, Al Asimah https://t.co/NCKzRexxYZ\nI\u0027m at \\xdcshk in Kuwait City, Al Kuwayt https://t.co/AZPhD7LXmU\nI\u0027m at 360\\xb0 @Mall360 in Kuwait City, Al Asimah https://t.co/0zrWXMSp9f\nI\u0027m at Caf\\xe9rea Festival in Kuwait City, Al Kuwayt https://t.co/JI4TqTh1sL\nI\u0027m at \\xdcshk in Kuwait City, Al Kuwayt https://t.co/HxaepTUZSX\nI\u0027m at 360\\xb0 @Mall360 in Kuwait City, Al Asimah https://t.co/ixVlak7rOd\nI\u0027m at Caf\\xe9rea Festival in Kuwait City, Al Kuwayt w/ @rashedalhadad @zainabxxx_ https://t.co/4AMkxNCz5E\nI\u0027m at 360\\xb0 @Mall360 in Kuwait City, Al Asimah https://t.co/DrPuOzqV9v\nI\u0027m at 360\\xb0 @Mall360 in Kuwait City, Al Asimah w/ @malmousawi66x @i98_xx @abdurahmanalmu3 @xman6xx @dealmajed… https://t.co/8X9Ba6sE0f\nI\u0027m at \\xdcshk in Kuwait City, Al Kuwayt w/ @h_abdulghanii https://t.co/PJLykeOjls\nI\u0027m at le Relais de l\u0027Entrec\\xf4te https://t.co/PW25wvqz0K\nI\u0027m at 360\\xb0 @Mall360 in Kuwait City, Al Asimah https://t.co/x6ohxdovtH\nI\u0027m at 360\\xb0 @Mall360 in Kuwait City, Al Asimah https://t.co/A6LY9G3Hnn\nI\u0027m at \\xdcshk in Kuwait City, Al Kuwayt https://t.co/DlteaskNx4\nI\u0027m at 360\\xb0 @Mall360 in Kuwait City, Al Asimah w/ @its941210_ https://t.co/OVx972Zcgw\nI\u0027m at \\xdcshk in Abu Al-Hasaniya, Mubarak Al-Kabeer Governorate w/ @subaiie76 @kw_alajmii https://t.co/Jm6eswGrE6\nI\u0027m at 360\\xb0 @Mall360 in Kuwait City, Al Asimah w/ @yousef_alhajji4 https://t.co/SGo4Z74SCh\nI\u0027m at Dose Caf\\xe9 in Kuwait City, Al Asimah Governate w/ @alialmhmoud2 https://t.co/VXTfMNqh32\nI\u0027m at 360\\xb0 @Mall360 in Kuwait City, Al Asimah https://t.co/q4ckOGgVjS\nI\u0027m at Urban Caf\\xe9 - @urbancafekw in Sharq, Al ‘Āşimah w/ @itsthamer34 https://t.co/VJjSAsMdYt\nI\u0027m at M\\xf6venpick Hotel \u0026 Resort Al Bida\u0027a - @movenpickhotels in Salmiya, Kuwait https://t.co/iajzHw1MW2 https://t.co/IJ1WqQziPz\nI\u0027m at Dose caf\\xe9 https://t.co/Tvt0iuP2yx\nالمجسم انجلط \\U0001f602 @ Salw\\xe1, Al \u0027Āşimah, Kuwait https://t.co/Nt6TTPVFAf\nI\u0027m at Grace Caf\\xe9 in Kuwait https://t.co/DFxEjB2er6\nاصبحنا وأصبح الملك لله.\\xa0اللهم اصرف عنا ما أهمّنا واشرح صدورنا ويسر أمورنا وأقضي ديننا وارزقنا… https://t.co/Ybwd4ie5Z6\nI\u0027m at 360\\xb0 @Mall360 in Kuwait City, Al Asimah w/ @h495_x https://t.co/xAETdRYE8t\nI\u0027m at Dose caf\\xe9 https://t.co/s6M1zWTPFQ\nI\u0027m at Culture Caf\\xe9 in Salmiya, Hawalli w/ @eich42__ https://t.co/5cqr5uPhk1\nI\u0027m at 360\\xb0 @Mall360 in Kuwait City, Al Asimah w/ @noalajme0 https://t.co/7KqUhhxb9J\nI\u0027m at The Grove Restaurant \u0026 Caf\\xe9 in Kuwait City https://t.co/OhtTQoj0ud\nاحتفل فيني \\U0001f388♥️ (@ Angelina Caf\\xe9 in Kuwait City, Al Asimah) https://t.co/AgFoZHi6mk\nI\u0027m at Dose Caf\\xe9 in Kuwait City, Al Asimah Governate https://t.co/7vaRYl7og3\nI\u0027m at \\xdcshk in Kuwait City, Al Kuwayt https://t.co/T26s4tTFIW\nYa se acerca el fin de semana y se viene una nueva edici\\xf3n del #BestOnTop !!! Hoy tengo un… https://t.co/1u0wLP40Xq\nI\u0027m at 360\\xb0 @Mall360 in Kuwait City, Al Asimah w/ @amb57x https://t.co/x493pW8cYw\nI\u0027m at \\xdcshk in Kuwait City, Al Kuwayt https://t.co/dtWaKpx9Bd\nI\u0027m at 360\\xb0 @Mall360 in Kuwait City, Al Asimah https://t.co/cvO9coAEP6\nJust posted a photo @ M\\xf6venpick Hotel \u0026 Resort Al Bida\u0027a Kuwait https://t.co/6f1uIw7VCz\nI\u0027m at K\\xf4fē - Espresso Bar https://t.co/5ZbsY7UoEA\nI\u0027m at 360\\xb0 @Mall360 in Kuwait City, Al Asimah https://t.co/2y1zRVmzrG\nI\u0027m at Dose caf\\xe9 https://t.co/o37pMpP3X5\nI\u0027m at Starbucks -Kaifan in Kowe\\xeft https://t.co/XbNrEqkzNK\nI\u0027m at 360\\xb0 @Mall360 in Kuwait City, Al Asimah https://t.co/MRMLCLeX0a\nI\u0027m at 360\\xb0 @Mall360 in Kuwait City, Al Asimah w/ @waroda25 https://t.co/EBSZ8p43FT\nI\u0027m at 360\\xb0 @Mall360 in Kuwait City, Al Asimah https://t.co/Joa0DAUGkp\nI\u0027m at Urban Caf\\xe9 - @urbancafekw in Sharq, Al ‘Āşimah https://t.co/1p3W0JPlih\nI\u0027m at 360\\xb0 @Mall360 in Kuwait City, Al Asimah w/ @32alh https://t.co/a8Gi9tcVBY\nfew clouds -\u003e scattered cloudstemperature up 38\\xb0C -\u003e 41\\xb0Chumidity down 31% -\u003e 19%\nجاري تعديل المزاج (@ Tarabizza caf\\xe8) https://t.co/bHsE9LeC5p\nI\u0027m at Urban Caf\\xe9 - @urbancafekw in Sharq, Al ‘Āşimah w/ @274_mf https://t.co/evfQYAMdFU\nI\u0027m at \\xdcshk in Abu Al-Hasaniya, Mubarak Al-Kabeer Governorate https://t.co/lsRu1ZtsP0\nI\u0027m at Caf\\xe9rea Festival in Kuwait City, Al Kuwayt https://t.co/qis5AQW1fq\nI\u0027m at \\xdcshk in Kuwait City, Al Kuwayt https://t.co/qjEFqIp5t9\nI\u0027m at \\xdcshk in Kuwait City, Al Kuwayt w/ @alfoudari25_ https://t.co/ek2UL9nraz\nI\u0027m at \\xdcshk in Kuwait City, Al Kuwayt w/ @yad_48 https://t.co/eRsdr26hRS\nI\u0027m at V\\xe9randa in Ash Shuwaykh, Kuwait https://t.co/9qLWSfm0fb\nI\u0027m at Dose Caf\\xe9 in Kuwait City, Al Asimah Governate https://t.co/otixg1OGub\n#missinghome @ Salw\\xe1, Al \u0027Āşimah, Kuwait https://t.co/6Ve9bRXIGq\nI\u0027m at 360\\xb0 @Mall360 in Kuwait City, Al Asimah https://t.co/1E4ePKAvb8\nI\u0027m at 360\\xb0 @Mall360 in Kuwait City, Al Asimah w/ @sa6_98 https://t.co/75ChxYrwFg\nI\u0027m at Starbucks -Kaifan in Kowe\\xeft https://t.co/wVNFAmjIHM\nI\u0027m at \\xdcshk in Abu Al-Hasaniya, Mubarak Al-Kabeer Governorate https://t.co/ZpD5oDPWg0\nمنار (@ 360\\xb0 @Mall360 in Kuwait City, Al Asimah) https://t.co/ahWKbOykLU\nI\u0027m at 360\\xb0 @Mall360 in Kuwait City, Al Asimah https://t.co/CJ9xobtA3q\nI\u0027m at \\xdcshk in Abu Al-Hasaniya, Mubarak Al-Kabeer Governorate https://t.co/GDZzbN7P97\nI\u0027m at \\xdcshk in Kuwait City, Al Kuwayt w/ @omaralsraye3 https://t.co/Qpx6jhqoIo\nصباح  الورد والجوري \\U0001f337\\U0001f339\\U0001f338 #الكويت #صباح_الخير #دبي #kuwait #dubai #goodmorning @ Salw\\xe1, Al… https://t.co/ALHp5VQSf1\nI\u0027m at 360\\xb0 @Mall360 in Kuwait City, Al Asimah w/ @754xx @a235xii https://t.co/ZR28pLlSOr\nI\u0027m at 360\\xb0 @Mall360 in Kuwait City, Al Asimah https://t.co/M03HCcMSXV\nI\u0027m at le Relais de l\u0027Entrec\\xf4te https://t.co/sIXTDn0kn5\nI\u0027m at Resturant Caf\\xea Port™ in Sharq, Al Asma https://t.co/lWQJVl4lY9\nI\u0027m at Starbucks -Kaifan in Kowe\\xeft https://t.co/XCgG1cJgGM\nJust posted a photo @ Salw\\xe1, Al \u0027Āşimah, Kuwait https://t.co/FkSoBmlTgo\nI\u0027m at 360\\xb0 @Mall360 in Kuwait City, Al Asimah https://t.co/o2x2bIiMqX\nI\u0027m at 360\\xb0 @Mall360 in Kuwait City, Al Asimah https://t.co/X5q9RGpfoP\nI\u0027m at Barcode caf\\xe9 https://t.co/hAqYL0G8Vb\nI\u0027m at \\xdcshk in Kuwait City, Al Kuwayt https://t.co/1Dpnen0Lna\nI\u0027m at The Grove Restaurant \u0026 Caf\\xe9 in Kuwait City https://t.co/GgOGIfJnlS\nI\u0027m at \\xdcshk in Kuwait City, Al Kuwayt https://t.co/H6Ao6xwYkp\nI\u0027m at Caf\\xe9rea Festival in Kuwait City, Al Kuwayt w/ @faarahxz @ellshmeri @3jmi__43 @9sbb_ @shmere_x @meshary_62… https://t.co/CGrijfRV8d\nI\u0027m at \\xdcshk in Kuwait City, Al Kuwayt w/ @aotaibi56 https://t.co/9grJD6hqEu\nChris Gardner:\\xa0Hey. Don’t ever let somebody tell you… You can’t do something. Not even me. All right?.Christophe… https://t.co/3XbBTXMKFL\nI\u0027m at 360\\xb0 @Mall360 in Kuwait City, Al Asimah https://t.co/gdIC9vHrgs\nI\u0027m at 360\\xb0 @Mall360 in Kuwait City, Al Asimah https://t.co/JI2HZ1y7pm\nI\u0027m at Urban Caf\\xe9 - @urbancafekw in Sharq, Al ‘Āşimah https://t.co/93NYVjjSpM\nI\u0027m at S\\xfctiś Restaurant in Grand Avenue, Kuwait https://t.co/A6bRoq9qxm\nI\u0027m at \\xdcshk in Kuwait City, Al Kuwayt https://t.co/2kaDblXF0r\nI\u0027m at \\xdcshk in Kuwait City, Al Kuwayt w/ @aziz3nzii @mhd66x_ https://t.co/SeQ0QrRykq\nI\u0027m at 360\\xb0 @Mall360 in Kuwait City, Al Asimah https://t.co/lK0Zlx3SNq\nI\u0027m at \\xdcshk in Kuwait City, Al Kuwayt w/ @dhaferi6 https://t.co/1fV2VfvL5i\nI\u0027m at 360\\xb0 @Mall360 in Kuwait City, Al Asimah w/ @62a_x https://t.co/9BPoo9D6j6\nI\u0027m at M\\xf6venpick Hotel \u0026 Resort Al Bida\u0027a - @movenpickhotels in Salmiya, Kuwait https://t.co/eLM3DEWm0Q\nI\u0027m at 360\\xb0 @Mall360 in Kuwait City, Al Asimah https://t.co/hIBOcPfbpc https://t.co/AZNGogdJZd\nI\u0027m at 360\\xb0 @Mall360 in Kuwait City, Al Asimah w/ @akoon_98 https://t.co/cRc3e3NO41\nI\u0027m at 360\\xb0 @Mall360 in Kuwait City, Al Asimah w/ @maljaber75 https://t.co/TSGSuQEBaw\nI\u0027m at Urban Caf\\xe9 in Kuwait https://t.co/L75HITYBFB\nI\u0027m at 360\\xb0 @Mall360 in Kuwait City, Al Asimah https://t.co/1RUUvnehyv\nI\u0027m at 360\\xb0 @Mall360 in Kuwait City, Al Asimah w/ @e92x_ https://t.co/20wZk3XzYU\nI\u0027m at \\xdcshk in Kuwait City, Al Kuwayt w/ @alansarii32 @dashti39 @thirtytwo_xf https://t.co/c9gwwJtU26\nI\u0027m at 360\\xb0 @Mall360 in Kuwait City, Al Asimah https://t.co/jZWPLeztk9\nI\u0027m at 360\\xb0 @Mall360 in Kuwait City, Al Asimah https://t.co/icopzlsVuE\nI\u0027m at 360\\xb0 @Mall360 in Kuwait City, Al Asimah https://t.co/ymkMx2eHFQ\nK\\xf6rfezden bu şehri anlatan  \\xfc\\xe7 renge de… https://t.co/B0WidPvwVl\nI\u0027m at 360\\xb0 @Mall360 in Kuwait City, Al Asimah https://t.co/mr2oXLf3AC\nI\u0027m at \\xdcshk in Kuwait City, Al Kuwayt https://t.co/U8pv64nQyd\n\\u0641\\u0631\\u0627\\u0646\\u06a9\\u0641\\u0648\\u0631\\u062a\\u0631 \\u0634\\u0648\\u0646 \\u0631\\u0633\\u0645\\u0627 \\u0646\\u0635\\u0641 \\u0642\\u0628\\u0644 \\u0634\\u062f\\u0647 \\U0001f601 (@ Vesal Caf\\xe9 in Tehran) https://t.co/2xVTJOB9O4 https://t.co/SEBEJDosE3\nI\u0027m at Urban Caf\\xe9 - @urbancafekw in Sharq, Al ‘Āşimah https://t.co/UAltrBWkwT\nI\u0027m at 360\\xb0 @Mall360 in Kuwait City, Al Asimah https://t.co/IPP8NRsOWJ\nI\u0027m at Dose caf\\xe9 https://t.co/zw2Bd4to3D\nI\u0027m at 360\\xb0 @Mall360 in Kuwait City, Al Asimah w/ @mutaiiri7x https://t.co/tACJFKlvHC\nI\u0027m at \\xdcshk in Kuwait City, Al Kuwayt https://t.co/43yyc72k8x\nI\u0027m at Tonino Lamborghini Caf\\xe9 in Al Kuwayt, Al Farwaniyah https://t.co/REs1OR2UBH https://t.co/GWw0plQkWY\nI\u0027m at 360\\xb0 @Mall360 in Kuwait City, Al Asimah w/ @bensaiff6x @omaralenzei https://t.co/IQTQdMp5nD\nI\u0027m at 360\\xb0 @Mall360 in Kuwait City, Al Asimah https://t.co/fX3y73Yz1U\nI\u0027m at 360\\xb0 @Mall360 in Kuwait City, Al Asimah https://t.co/y1OyOeVymn\nDeniz Kenarı, Deniz, Dağlar T\\xfcrkiye! Sea is nearby, The Sea, The Mountains. Turkey \\U0001f1f9\\U0001f1f7 @ State Of… https://t.co/kwOdnCM8bu\nI\u0027m at 360\\xb0 @Mall360 in Kuwait City, Al Asimah https://t.co/5cG4Y4KtRQ\nI\u0027m at 360\\xb0 @Mall360 in Kuwait City, Al Asimah w/ @_aldubai5yy @alhatem69_ https://t.co/fUdEPWFPqf\nI\u0027m at Dose caf\\xe9 https://t.co/typbHLQJXJ\nI\u0027m at 360\\xb0 @Mall360 in Kuwait City, Al Asimah https://t.co/4WqiCKAXrA\nI\u0027m at 360\\xb0 @Mall360 in Kuwait City, Al Asimah https://t.co/CSuCGP4JgI\nGm ☀️\\U0001f495 (@ 360\\xb0 @Mall360 in Kuwait City, Al Asimah) https://t.co/fKrUoGh0Lq\nI\u0027m at \\xdcshk in Kuwait City, Al Kuwayt w/ @hma27x https://t.co/xadTDnl5bM\nI\u0027m at \\xdcshk in Kuwait City, Al Kuwayt https://t.co/iTm13jrSVx\nI\u0027m at \\xdcshk in Kuwait City, Al Kuwayt https://t.co/m0rYmLAdK7\nI\u0027m at 360\\xb0 @Mall360 in Kuwait City, Al Asimah https://t.co/uqgBVTJ6Sp\nI\u0027m at Dose caf\\xe9 https://t.co/E68Fk41M6a\nI\u0027m at 360\\xb0 @Mall360 in Kuwait City, Al Asimah w/ @46x_1 @the45x @m_altshani @ghanimaalt48x_ https://t.co/X3N3CHwRZz\nأول عزيمة \\U0001f61d\\U0001f381 (@ le Relais de l\u0027Entrec\\xf4te) https://t.co/4agpB9MCFF\nI\u0027m at Joe\u0027s Caf\\xe9 https://t.co/YMQOILQ9HO\n",
          "name": "stdout"
        }
      ]
    },
    {
      "execution_count": 75,
      "cell_type": "code",
      "metadata": {},
      "source": [
        "Twi_Data_Full_Prep_df \u003d Twi_Data_prepared_with_visual_recipe_df # For this sample code, simply copy input to output"
      ],
      "outputs": []
    },
    {
      "execution_count": 0,
      "cell_type": "code",
      "metadata": {},
      "source": [
        "# Write recipe outputs\nTwi_Data_Full_Prep \u003d dataiku.Dataset(\"Twi_Data_Full_Prep\")\nTwi_Data_Full_Prep.write_with_schema(Twi_Data_Full_Prep_df)"
      ],
      "outputs": []
    }
  ]
}