{
  "metadata": {
    "kernelspec": {
      "name": "python3",
      "display_name": "Python 3",
      "language": "python"
    },
    "associatedRecipe": "compute_Twi_Data_Full_Prep",
    "creator": "admin",
    "createdOn": 1666359931421,
    "tags": [
      "recipe-editor"
    ],
    "customFields": {},
    "hide_input": false,
    "language_info": {
      "name": "python",
      "version": "3.7.13",
      "mimetype": "text/x-python",
      "codemirror_mode": {
        "name": "ipython",
        "version": 3
      },
      "pygments_lexer": "ipython3",
      "nbconvert_exporter": "python",
      "file_extension": ".py"
    },
    "modifiedBy": "admin"
  },
  "nbformat": 4,
  "nbformat_minor": 1,
  "cells": [
    {
      "execution_count": 185,
      "cell_type": "code",
      "metadata": {},
      "source": [
        "# -*- coding: utf-8 -*-\nimport dataiku\nimport pandas as pd, numpy as np\nfrom dataiku import pandasutils as pdu\n\n# Read recipe inputs\nTwi_Data_prepared_with_visual_recipe \u003d dataiku.Dataset(\"Twi_Data_prepared_with_visual_recipe\")\nTwi_Data_prepared_with_visual_recipe_df \u003d Twi_Data_prepared_with_visual_recipe.get_dataframe()\n\n\n# Compute recipe outputs from inputs\n# TODO: Replace this part by your actual code that computes the output, as a Pandas dataframe\n# NB: DSS also supports other kinds of APIs for reading and writing data. Please see doc.\n\n\n"
      ],
      "outputs": []
    },
    {
      "execution_count": 293,
      "cell_type": "code",
      "metadata": {
        "scrolled": true
      },
      "source": [
        "import codecs\nclean_tweet_text \u003d []\nfor text in tweet_text:\n    clean_text \u003d text[1:] if text.startswith(\u0027u\u0027) else text\n    clean_text \u003d clean_text.replace(\"\u0027\u0027\",\"\u0027\")\n    clean_text \u003d clean_text[1:-2] if clean_text.startswith(\"\u0027\") else clean_text\n    clean_text \u003d clean_text[:-1] if clean_text.endswith(\",\") else clean_text\n    clean_text \u003d codecs.unicode_escape_decode(clean_text)[0] if clean_text.find(\u0027\\\\u\u0027) \u003e -1 else clean_text\n    clean_tweet_text.append(clean_text)\n# TODO: next step is to deal with the \\\\U \u003c- capital U\nfor t in clean_tweet_text:\n    if t.find(\u0027\\\\U\u0027) \u003e -1:\n        print(t.replace(\u0027\\\\U\u0027,\u0027\\\\\u0027))\n        \n    else: 1"
      ],
      "outputs": [
        {
          "output_type": "error",
          "ename": "SyntaxError",
          "evalue": "(unicode error) \u0027unicodeescape\u0027 codec can\u0027t decode bytes in position 0-1: truncated \\UXXXXXXXX escape (\u003cipython-input-293-ad4217cf48a4\u003e, line 13)",
          "traceback": [
            "\u001b[0;36m  File \u001b[0;32m\"\u003cipython-input-293-ad4217cf48a4\u003e\"\u001b[0;36m, line \u001b[0;32m13\u001b[0m\n\u001b[0;31m    print(t.replace(\u0027\\\\U\u0027,\u0027\\U\u0027))\u001b[0m\n\u001b[0m                         ^\u001b[0m\n\u001b[0;31mSyntaxError\u001b[0m\u001b[0;31m:\u001b[0m (unicode error) \u0027unicodeescape\u0027 codec can\u0027t decode bytes in position 0-1: truncated \\UXXXXXXXX escape\n"
          ]
        }
      ]
    },
    {
      "execution_count": 186,
      "cell_type": "code",
      "metadata": {},
      "source": [
        "tweet_text \u003d Twi_Data_prepared_with_visual_recipe_df[\u0027tweet_text\u0027]"
      ],
      "outputs": []
    },
    {
      "execution_count": 75,
      "cell_type": "code",
      "metadata": {},
      "source": [
        "Twi_Data_Full_Prep_df \u003d Twi_Data_prepared_with_visual_recipe_df # For this sample code, simply copy input to output"
      ],
      "outputs": []
    },
    {
      "execution_count": 0,
      "cell_type": "code",
      "metadata": {},
      "source": [
        "# Write recipe outputs\nTwi_Data_Full_Prep \u003d dataiku.Dataset(\"Twi_Data_Full_Prep\")\nTwi_Data_Full_Prep.write_with_schema(Twi_Data_Full_Prep_df)"
      ],
      "outputs": []
    }
  ]
}