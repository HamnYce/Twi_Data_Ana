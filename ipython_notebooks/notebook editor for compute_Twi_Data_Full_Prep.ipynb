{
  "metadata": {
    "kernelspec": {
      "name": "python3",
      "display_name": "Python 3",
      "language": "python"
    },
    "associatedRecipe": "compute_Twi_Data_Full_Prep",
    "creator": "admin",
    "createdOn": 1666359931421,
    "tags": [
      "recipe-editor"
    ],
    "customFields": {},
    "hide_input": false,
    "language_info": {
      "name": "python",
      "version": "3.7.13",
      "mimetype": "text/x-python",
      "codemirror_mode": {
        "name": "ipython",
        "version": 3
      },
      "pygments_lexer": "ipython3",
      "nbconvert_exporter": "python",
      "file_extension": ".py"
    },
    "modifiedBy": "admin"
  },
  "nbformat": 4,
  "nbformat_minor": 1,
  "cells": [
    {
      "execution_count": 2,
      "cell_type": "code",
      "metadata": {},
      "source": [
        "# -*- coding: utf-8 -*-\nimport dataiku\nimport pandas as pd, numpy as np\nfrom dataiku import pandasutils as pdu\n\n# Read recipe inputs\nTwi_Data_prepared_with_visual_recipe \u003d dataiku.Dataset(\"Twi_Data_prepared_with_visual_recipe\")\nTwi_Data_prepared_with_visual_recipe_df \u003d Twi_Data_prepared_with_visual_recipe.get_dataframe()\n\n\n# Compute recipe outputs from inputs\n# TODO: Replace this part by your actual code that computes the output, as a Pandas dataframe\n# NB: DSS also supports other kinds of APIs for reading and writing data. Please see doc.\n\n\n"
      ],
      "outputs": []
    },
    {
      "execution_count": 67,
      "cell_type": "code",
      "metadata": {},
      "source": [
        "tweet_text \u003d Twi_Data_prepared_with_visual_recipe_df[\u0027tweet_text\u0027]"
      ],
      "outputs": []
    },
    {
      "execution_count": 161,
      "cell_type": "code",
      "metadata": {
        "scrolled": true
      },
      "source": [
        "import codecs\nclean_tweet_text \u003d []\nfor text in tweet_text:\n    clean_text \u003d text[1:] if text.startswith(\u0027u\u0027) else text\n    clean_text \u003d clean_text.replace(\"\u0027\u0027\",\"\u0027\")\n    clean_text \u003d clean_text[1:-2] if clean_text.startswith(\"\u0027\") else clean_text\n    clean_text \u003d clean_text[:-1] if clean_text.endswith(\",\") else clean_text\n    #clean_text \u003d codecs.unicode_escape_decode(codecs.unicode_escape_encode(clean_text)[0])[0]\n    clean_tweet_text.append(clean_text)\ncodecs.unicode_escape_decode(codecs.unicode_escape_decode(clean_tweet_text[27]))\n"
      ],
      "outputs": [
        {
          "output_type": "error",
          "ename": "TypeError",
          "evalue": "a bytes-like object is required, not \u0027tuple\u0027",
          "traceback": [
            "\u001b[0;31m---------------------------------------------------------------------------\u001b[0m",
            "\u001b[0;31mTypeError\u001b[0m                                 Traceback (most recent call last)",
            "\u001b[0;32m\u003cipython-input-161-89b1169529c2\u003e\u001b[0m in \u001b[0;36m\u003cmodule\u003e\u001b[0;34m()\u001b[0m\n\u001b[1;32m      8\u001b[0m     \u001b[0;31m#clean_text \u003d codecs.unicode_escape_decode(codecs.unicode_escape_encode(clean_text)[0])[0]\u001b[0m\u001b[0;34m\u001b[0m\u001b[0;34m\u001b[0m\u001b[0;34m\u001b[0m\u001b[0m\n\u001b[1;32m      9\u001b[0m     \u001b[0mclean_tweet_text\u001b[0m\u001b[0;34m.\u001b[0m\u001b[0mappend\u001b[0m\u001b[0;34m(\u001b[0m\u001b[0mclean_text\u001b[0m\u001b[0;34m)\u001b[0m\u001b[0;34m\u001b[0m\u001b[0;34m\u001b[0m\u001b[0m\n\u001b[0;32m---\u003e 10\u001b[0;31m \u001b[0mcodecs\u001b[0m\u001b[0;34m.\u001b[0m\u001b[0municode_escape_decode\u001b[0m\u001b[0;34m(\u001b[0m\u001b[0mcodecs\u001b[0m\u001b[0;34m.\u001b[0m\u001b[0municode_escape_decode\u001b[0m\u001b[0;34m(\u001b[0m\u001b[0mclean_tweet_text\u001b[0m\u001b[0;34m[\u001b[0m\u001b[0;36m27\u001b[0m\u001b[0;34m]\u001b[0m\u001b[0;34m)\u001b[0m\u001b[0;34m)\u001b[0m\u001b[0;34m\u001b[0m\u001b[0;34m\u001b[0m\u001b[0m\n\u001b[0m",
            "\u001b[0;31mTypeError\u001b[0m: a bytes-like object is required, not \u0027tuple\u0027"
          ]
        }
      ]
    },
    {
      "execution_count": 145,
      "cell_type": "code",
      "metadata": {},
      "source": [
        "\u0027\\\\U0001f4bb\\\\U0001f4ad (@ Abdullah AlMubarak Block 9 in Kuwait City) https://t.co/NY3xTaB0HR\u0027.encode(\u0027utf-8\u0027).decode"
      ],
      "outputs": [
        {
          "output_type": "execute_result",
          "execution_count": 145,
          "data": {
            "text/plain": "\u003cfunction bytes.decode\u003e"
          },
          "metadata": {}
        }
      ]
    },
    {
      "execution_count": 75,
      "cell_type": "code",
      "metadata": {},
      "source": [
        "Twi_Data_Full_Prep_df \u003d Twi_Data_prepared_with_visual_recipe_df # For this sample code, simply copy input to output"
      ],
      "outputs": []
    },
    {
      "execution_count": 0,
      "cell_type": "code",
      "metadata": {},
      "source": [
        "# Write recipe outputs\nTwi_Data_Full_Prep \u003d dataiku.Dataset(\"Twi_Data_Full_Prep\")\nTwi_Data_Full_Prep.write_with_schema(Twi_Data_Full_Prep_df)"
      ],
      "outputs": []
    }
  ]
}