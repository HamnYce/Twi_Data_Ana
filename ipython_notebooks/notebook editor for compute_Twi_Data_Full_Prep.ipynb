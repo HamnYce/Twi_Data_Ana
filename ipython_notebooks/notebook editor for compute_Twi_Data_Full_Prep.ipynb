{
  "metadata": {
    "kernelspec": {
      "name": "python3",
      "display_name": "Python 3",
      "language": "python"
    },
    "associatedRecipe": "compute_Twi_Data_Full_Prep",
    "creator": "admin",
    "createdOn": 1666359931421,
    "tags": [
      "recipe-editor"
    ],
    "customFields": {},
    "hide_input": false,
    "language_info": {
      "name": "python",
      "version": "3.7.13",
      "mimetype": "text/x-python",
      "codemirror_mode": {
        "name": "ipython",
        "version": 3
      },
      "pygments_lexer": "ipython3",
      "nbconvert_exporter": "python",
      "file_extension": ".py"
    },
    "modifiedBy": "admin"
  },
  "nbformat": 4,
  "nbformat_minor": 1,
  "cells": [
    {
      "execution_count": 185,
      "cell_type": "code",
      "metadata": {},
      "source": [
        "# -*- coding: utf-8 -*-\nimport dataiku\nimport pandas as pd, numpy as np\nfrom dataiku import pandasutils as pdu\n\n# Read recipe inputs\nTwi_Data_prepared_with_visual_recipe \u003d dataiku.Dataset(\"Twi_Data_prepared_with_visual_recipe\")\nTwi_Data_prepared_with_visual_recipe_df \u003d Twi_Data_prepared_with_visual_recipe.get_dataframe()\n\n\n# Compute recipe outputs from inputs\n# TODO: Replace this part by your actual code that computes the output, as a Pandas dataframe\n# NB: DSS also supports other kinds of APIs for reading and writing data. Please see doc.\n\n\n"
      ],
      "outputs": []
    },
    {
      "execution_count": 186,
      "cell_type": "code",
      "metadata": {},
      "source": [
        "tweet_text \u003d Twi_Data_prepared_with_visual_recipe_df[\u0027tweet_text\u0027]"
      ],
      "outputs": []
    },
    {
      "execution_count": 219,
      "cell_type": "code",
      "metadata": {
        "scrolled": true
      },
      "source": [
        "import codecs\nclean_tweet_text \u003d []\nfor text in tweet_text:\n    clean_text \u003d text[1:] if text.startswith(\u0027u\u0027) else text\n    clean_text \u003d clean_text.replace(\"\u0027\u0027\",\"\u0027\")\n    clean_text \u003d clean_text[1:-2] if clean_text.startswith(\"\u0027\") else clean_text\n    clean_text \u003d clean_text[:-1] if clean_text.endswith(\",\") else clean_text\n    clean_tweet_text.append(clean_text)\nfor t in clean_tweet_text:\n    print(codecs.unicode_escape_decode(t)) if t.find(\u0027\\\\u\u0027) \u003e -1 else 1"
      ],
      "outputs": [
        {
          "output_type": "stream",
          "text": "(\"I\u0027m at جبد https://t.co/xkf52QUtSG\", 49)\n(\"I\u0027m at Bnaider 258 in Al Aḩmadī https://t.co/ZGMoZfhtLw\", 65)\n(\"I\u0027m at برج التجارية in Kuwait City https://t.co/KhQqarvVyd\", 113)\n(\u0027✍ *لم اتغير على احد ولكن احب راحة بالي جدا من يراني قد تغيرت! ! فلينظر لنفسه ماذا فعل؟؟!!*.#سعود_الشريكه#الكويت… https://t.co/Z1klt5jMau\u0027, 556)\n(\"I\u0027m at شركة أعيان لصيانة السيارات https://t.co/S4E772nsM9\", 172)\n(\"ملاذنا وملجأنا هالحزه🏃🏻\\u200d♂️ @realsaedi2 @zoozi_xx (@ McDonald\u0027s in South Surra - جنوب السرة, Hawalli Governorate) https://t.co/ao0PGFR0ch\", 309)\n(\u0027🎥 (@ سينسكيب - @cinescapeq8 in Al Rai, Al Farwaniyah Governate) https://t.co/BbnyO1ammR\u0027, 131)\n(\"I\u0027m at العارضية الصناعية https://t.co/xSqP2dkQ2z\", 128)\n(\u0027ربي إن مستقبلي لا يراه ولا يملكه سواك فأكتب لي السعادة فيه❤️. (@ Kuwait Airways Flight Crew Training Centre in Al… https://t.co/ryi2wyIYXf\u0027, 388)\n(\u0027ماشاءالله محمية الفلفل الحار #الكويت #مزارع_العبدلي #مزارع_الوفرة #محميات_زراعية #مزرعة_الدعية @ Abdley https://t.co/vxmc1wasMM\u0027, 512)\n(\u0027#Repost mohammad.mkhani with get_repost・・・معجزه ای وجود دارد که دوستی نامیده می شود و در میان دل اقامت دارد ؛ شما… https://t.co/CMhWBivvHf\u0027, 433)\n(\"I\u0027m at جامعة الكويت كلية الحقوق in Kuwait City, Al Asimah https://t.co/2O4undj7UK\", 186)\n(\"I\u0027m at ستاربكس شيخة سنتر https://t.co/qa3oikxbTl https://t.co/0iFPZJAwIn\", 147)\n(\"I\u0027m at غراند أڤنيو in Kuwait, Al ‘Āşimah https://t.co/9uArPFWF8l\", 129)\n(\u002750 Faces series🧒🏻🧒🏽🧒🏾🧒🏿🧓🏻👴🏼👩🏽🧔🏽🧔🏽🧔🏽 with Bokehmaster SIGMA 105mm f/1.4 Art from@aabworld 📸 @sonyelectronics son… https://t.co/W5Z3B3nbae\u0027, 330)\n(\"I\u0027m at المركز الجنوبي التخصصي https://t.co/VlGUvXYsVn\", 153)\n(\u0027Good morning Kuwait 🇰🇼💙—-#kuwait #o2gym #oxygengym #gm @ Oxygen Gym Sabah Al Salem https://t.co/qkMWeHRO7r\u0027, 138)\n(\"I\u0027m at جسر اليرموك in Al Asimah https://t.co/6sbJldWN9w\", 105)\n(\u0027This #job might be a great fit for you: Wireline Field Specialist - https://t.co/sFsyu3LTre #BHGE #SkilledTrade… https://t.co/Q12URHy9E4\u0027, 141)\n(\"I\u0027m at قصر السرايا in الكويت https://t.co/XiZWLDpqAZ\", 132)\n(\"I\u0027m at ثانوية الرتقة بنات https://t.co/aU2O2H7tZk\", 129)\n(\u0027Thai Salad ❤️ السلطة التايلندية @ Asia/Kuwait https://t.co/2zRBbch3zG\u0027, 159)\n(\"I\u0027m at غراند أڤنيو in Kuwait, Al ‘Āşimah https://t.co/Mszqg7VSix\", 129)\n(\"I\u0027m at Arabica % The Avenues in Al-Raī, The Forum - The Avenues https://t.co/Cr9BvyvGql\", 92)\n(\"I\u0027m at كلية التربية in Kaifan, Al Asimah https://t.co/t435Cw56m8 https://t.co/AjKyAMdNlr\", 143)\n(\u0027صباح الخير (@ College of Engineering and Petroleum in Khaldiya, Kuwait) https://t.co/S59SBXmrFZ\u0027, 140)\n(\"I\u0027m at مزارع العبدلي Kuwait https://t.co/n72JMsHPyU\", 111)\n(\"I\u0027m at كلية التربية in Kaifan, Al Asimah https://t.co/GokrDJB7Rz\", 119)\n(\"I\u0027m at ادارة مرور محافظة مبارك الكبير https://t.co/tWWSvGreXO\", 191)\n(\"I\u0027m at مكتبة الرسول الاعظم in بنيدالقار, Al Asimah https://t.co/XRAyfWGkdF\", 204)\n(\u0027ریزش کوه مسیر اصلی تبریز - جلفا را مسدود کرد.ارسالی مخاطبان نصر.@nasrnews_ir @ Tabriz, Iran https://t.co/lVIfhQT0wy\u0027, 365)\n(\u0027امتحان 🤦🏼\\u200d♂️ (@ كلية تكنولوجيا الطيران️ College Of Aviation Technology) https://t.co/VCoeyeAaMg\u0027, 263)\n(\u0027.@al_f32 (@ غراند أڤنيو in Kuwait, Al ‘Āşimah) https://t.co/rohq4EKGjt\u0027, 135)\n(\"I\u0027m at مملكتنا in Kuwait, mubarak alkabeer https://t.co/9E5VWajsjt\", 101)\n(\u0027هیچوقت کنفرانس سال 2008 وقتی که #استیو_جابز  روی صحنه یک مک\\u200cبوک رو از تو یک پاکت بیرون آورد و شد یکی از آرزوهام، هی… https://t.co/OLB8DEQC9x\u0027, 570)\n(\u0027و رجعنا من جديد ❤😍 (@ الجابرية،قطعة9) https://t.co/ZbIYMn2AYx\u0027, 200)\n(\u0027كوكو سبزيسهلة سريعة لذيذة والاجمل من هذا ستار وأجمل ما غنى العاشق الخجول ❤️#تصبحون_على_خير #احبتي_اينما_كنتم ا… https://t.co/uVVYElfxl4\u0027, 585)\n(\"I\u0027m at مركز عبدالرحمن عبد المغني التخصصي in العاصمه, الكويت https://t.co/v41cG7bRiK\", 293)\n(\u0027🤦🏻\\u200d♀️💔 (@ college of Education 💕- مبنى 16) https://t.co/Gz4vmdCYZ5\u0027, 137)\n(\u0027👨\\u200d👩\\u200d👧\\u200d👦 (@ Al-Masayel Area in Al-Mesīlah) https://t.co/juJ5ZRFjI8\u0027, 121)\n(\u0027فرانکفورتر شون رسما نصف قبل شده 😁 (@ Vesal Café in Tehran) https://t.co/2xVTJOB9O4 https://t.co/SEBEJDosE3\u0027, 248)\n(\u0027يالله صباح الخير (@ مستشفى جابر الاحمد للقوات المسلحه in صبحان) https://t.co/mHGmf3qccw\u0027, 327)\n(\"Just posted a video @ Al-Riqqah, Al \u0027Āşimah, Kuwait https://t.co/PjCzOmgliZ\", 85)\n(\"I\u0027m at ثانوية دعيج السلمان الصباح https://t.co/VohW3KL1BE\", 172)\n(\u0027#أكاديمية_القيم #الاندلس #كويت #الكويت #جيوجتسو_الكويت #جيوجتسو #كيوكوشنكاي #كيوكوشن #دروس #تربية #تعليم #رحلات… https://t.co/6fpQcIXNRY\u0027, 571)\n(\u0027#necklace #jewelry #jewelry #accessories #smycken #crystals #design #lyxaccessory #earrings #bracelets #ring… https://t.co/UqlFtMEg59\u0027, 138)\n(\"I\u0027m at كلية التربية الأساسية in Al-Ardiya, Kuwait https://t.co/gVjK5wkE6R\", 168)\n",
          "name": "stdout"
        }
      ]
    },
    {
      "execution_count": 75,
      "cell_type": "code",
      "metadata": {},
      "source": [
        "Twi_Data_Full_Prep_df \u003d Twi_Data_prepared_with_visual_recipe_df # For this sample code, simply copy input to output"
      ],
      "outputs": []
    },
    {
      "execution_count": 0,
      "cell_type": "code",
      "metadata": {},
      "source": [
        "# Write recipe outputs\nTwi_Data_Full_Prep \u003d dataiku.Dataset(\"Twi_Data_Full_Prep\")\nTwi_Data_Full_Prep.write_with_schema(Twi_Data_Full_Prep_df)"
      ],
      "outputs": []
    }
  ]
}