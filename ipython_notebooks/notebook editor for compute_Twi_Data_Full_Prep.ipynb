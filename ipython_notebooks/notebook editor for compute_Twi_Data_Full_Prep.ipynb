{
  "metadata": {
    "kernelspec": {
      "name": "python3",
      "display_name": "Python 3",
      "language": "python"
    },
    "creator": "admin",
    "createdOn": 1666359931421,
    "tags": [
      "initial-data-cleanse"
    ],
    "customFields": {},
    "hide_input": false,
    "language_info": {
      "name": "python",
      "version": "3.7.13",
      "mimetype": "text/x-python",
      "codemirror_mode": {
        "name": "ipython",
        "version": 3
      },
      "pygments_lexer": "ipython3",
      "nbconvert_exporter": "python",
      "file_extension": ".py"
    },
    "modifiedBy": "admin"
  },
  "nbformat": 4,
  "nbformat_minor": 1,
  "cells": [
    {
      "execution_count": 185,
      "cell_type": "code",
      "metadata": {},
      "source": [
        "# -*- coding: utf-8 -*-\nimport dataiku\nimport pandas as pd, numpy as np\nfrom dataiku import pandasutils as pdu\n\n# Read recipe inputs\nTwi_Data_prepared_with_visual_recipe \u003d dataiku.Dataset(\"Twi_Data_prepared_with_visual_recipe\")\nTwi_Data_prepared_with_visual_recipe_df \u003d Twi_Data_prepared_with_visual_recipe.get_dataframe()\n\n\n# Compute recipe outputs from inputs\n# TODO: Replace this part by your actual code that computes the output, as a Pandas dataframe\n# NB: DSS also supports other kinds of APIs for reading and writing data. Please see doc.\n"
      ],
      "outputs": []
    },
    {
      "cell_type": "markdown",
      "metadata": {},
      "source": [
        "#### loading data"
      ]
    },
    {
      "execution_count": 340,
      "cell_type": "code",
      "metadata": {},
      "source": [
        "tweet_text \u003d Twi_Data_prepared_with_visual_recipe_df[\u0027tweet_text\u0027]"
      ],
      "outputs": []
    },
    {
      "cell_type": "markdown",
      "metadata": {},
      "source": [
        "#### first clean"
      ]
    },
    {
      "execution_count": 341,
      "cell_type": "code",
      "metadata": {
        "scrolled": true
      },
      "source": [
        "import codecs\nclean_tweet_text \u003d []\nfor text in tweet_text:\n    # removing u from beginning of some text\n    clean_text \u003d text[1:] if text.startswith(\u0027u\u0027) else text\n    # replace pair of single quotations with one single quotation\n    clean_text \u003d clean_text.replace(\"\u0027\u0027\",\"\u0027\")\n    # removing quotations from around text\n    clean_text \u003d clean_text[1:-2] if clean_text.startswith(\"\u0027\") else clean_text\n    # removing common from end of text\n    clean_text \u003d clean_text[:-1] if clean_text.endswith(\",\") else clean_text\n    # unicode escaping lower case u (\\u) characters\n    clean_text \u003d codecs.unicode_escape_decode(clean_text)[0] if clean_text.find(\u0027\\\\u\u0027) \u003e -1 else clean_text\n    # appending to list for next part\n    clean_tweet_text.append(clean_text)\n"
      ],
      "outputs": []
    },
    {
      "cell_type": "markdown",
      "metadata": {},
      "source": [
        "#### second clean"
      ]
    },
    {
      "execution_count": 342,
      "cell_type": "code",
      "metadata": {},
      "source": [
        "good_enc_text \u003d []\nfor t in clean_tweet_text:\n    # changing all characters to unicode to unify\n    s \u003d codecs.unicode_escape_encode(t)[0]\n    # removing the python added \"b\u0027\" at the beginning generated from previous statement\n    s \u003d str(s)[2:]\n    # removing double or triple backslash from some unicode characters \n    # (this one took a while to find a solution for)\n    s \u003d s.replace(\u0027\\\\\\\\\u0027,\u0027\\\\\u0027).replace(\u0027\\\\\\\\\u0027,\u0027\\\\\u0027)\n    # re-encoding text back into normal characters\n    s \u003d codecs.unicode_escape_decode(s)[0]\n    # appending to list to re-import back into table\n    good_enc_text.append(s)\n"
      ],
      "outputs": []
    },
    {
      "execution_count": 343,
      "cell_type": "code",
      "metadata": {},
      "source": [
        "Twi_Data_prepared_with_visual_recipe_df[\u0027tweet_text\u0027] \u003d good_enc_text"
      ],
      "outputs": []
    },
    {
      "execution_count": 344,
      "cell_type": "code",
      "metadata": {},
      "source": [
        "Twi_Data_Full_Prep_df \u003d Twi_Data_prepared_with_visual_recipe_df"
      ],
      "outputs": []
    },
    {
      "execution_count": 345,
      "cell_type": "code",
      "metadata": {},
      "source": [
        "# Write recipe outputs\nTwi_Data_Full_Prep \u003d dataiku.Dataset(\"Twi_Data_Full_Prep\")\nTwi_Data_Full_Prep.write_with_schema(Twi_Data_Full_Prep_df)"
      ],
      "outputs": [
        {
          "output_type": "stream",
          "text": "10000 rows successfully written (l8sJVXzhuF)\n",
          "name": "stdout"
        }
      ]
    }
  ]
}