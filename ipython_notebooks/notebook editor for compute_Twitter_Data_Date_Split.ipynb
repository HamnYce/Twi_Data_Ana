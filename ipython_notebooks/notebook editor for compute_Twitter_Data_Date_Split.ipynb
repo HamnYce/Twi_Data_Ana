{
  "metadata": {
    "kernelspec": {
      "name": "python3",
      "display_name": "Python 3",
      "language": "python"
    },
    "associatedRecipe": "compute_Twitter_Data_Date_Split",
    "creator": "admin",
    "createdOn": 1666313164275,
    "tags": [
      "recipe-editor"
    ],
    "customFields": {},
    "hide_input": false,
    "language_info": {
      "name": "python",
      "version": "3.7.13",
      "mimetype": "text/x-python",
      "codemirror_mode": {
        "name": "ipython",
        "version": 3
      },
      "pygments_lexer": "ipython3",
      "nbconvert_exporter": "python",
      "file_extension": ".py"
    },
    "modifiedBy": "admin"
  },
  "nbformat": 4,
  "nbformat_minor": 1,
  "cells": [
    {
      "execution_count": 2,
      "cell_type": "code",
      "metadata": {},
      "source": [
        "# -*- coding: utf-8 -*-\nimport dataiku\nimport pandas as pd, numpy as np\nfrom dataiku import pandasutils as pdu\n\n# Read recipe inputs\nTwitter_Data_Proper \u003d dataiku.Dataset(\"Twitter_Data_Proper\")\nTwitter_Data_Proper_df \u003d Twitter_Data_Proper.get_dataframe()\n\n\n# Compute recipe outputs from inputs\n# TODO: Replace this part by your actual code that computes the output, as a Pandas dataframe\n# NB: DSS also supports other kinds of APIs for reading and writing data. Please see doc.\n\n\nTwitter_Data_Date_Split_df \u003d Twitter_Data_Proper_df # For this sample code, simply copy input to output\n"
      ],
      "outputs": []
    },
    {
      "execution_count": 6,
      "cell_type": "code",
      "metadata": {},
      "source": [
        "Twitter_Data_Proper_df[\u0027date_local\u0027]"
      ],
      "outputs": [
        {
          "output_type": "stream",
          "text": "Object `apply` not found.\n",
          "name": "stdout"
        }
      ]
    },
    {
      "execution_count": 8,
      "cell_type": "code",
      "metadata": {},
      "source": [
        "Twitter_Data_Proper_df[[\u0027date\u0027,\u0027time\u0027]] \u003d "
      ],
      "outputs": []
    },
    {
      "execution_count": 0,
      "cell_type": "code",
      "metadata": {},
      "source": [
        "\n# Write recipe outputs\nTwitter_Data_Date_Split \u003d dataiku.Dataset(\"Twitter_Data_Date_Split\")\nTwitter_Data_Date_Split.write_with_schema(Twitter_Data_Date_Split_df)"
      ],
      "outputs": []
    }
  ]
}