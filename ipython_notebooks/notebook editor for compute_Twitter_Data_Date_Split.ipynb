{
  "nbformat": 4,
  "nbformat_minor": 0,
  "metadata": {
    "kernelspec": {
      "display_name": "Python 3",
      "language": "python",
      "name": "python3"
    },
    "associatedRecipe": "compute_Twitter_Data_Date_Split",
    "creator": "admin",
    "createdOn": 1666313164275,
    "tags": [
      "recipe-editor"
    ],
    "customFields": {}
  },
  "cells": [
    {
      "cell_type": "code",
      "metadata": {},
      "outputs": [],
      "execution_count": 0,
      "source": [
        "# -*- coding: utf-8 -*-\n",
        "import dataiku\n",
        "import pandas as pd, numpy as np\n",
        "from dataiku import pandasutils as pdu\n",
        "\n",
        "# Read recipe inputs\n",
        "Twitter_Data_Proper \u003d dataiku.Dataset(\"Twitter_Data_Proper\")\n",
        "Twitter_Data_Proper_df \u003d Twitter_Data_Proper.get_dataframe()\n",
        "\n",
        "\n",
        "# Compute recipe outputs from inputs\n",
        "# TODO: Replace this part by your actual code that computes the output, as a Pandas dataframe\n",
        "# NB: DSS also supports other kinds of APIs for reading and writing data. Please see doc.\n",
        "Twitter_Data_Proper_df[\u0027date\u0027] \u003d\n",
        "Twitter_Data_Date_Split_df \u003d Twitter_Data_Proper_df # For this sample code, simply copy input to output\n",
        "\n",
        "\n",
        "# Write recipe outputs\n",
        "Twitter_Data_Date_Split \u003d dataiku.Dataset(\"Twitter_Data_Date_Split\")\n",
        "Twitter_Data_Date_Split.write_with_schema(Twitter_Data_Date_Split_df)"
      ]
    }
  ]
}